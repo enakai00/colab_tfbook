{
  "nbformat": 4,
  "nbformat_minor": 0,
  "metadata": {
    "colab": {
      "provenance": []
    },
    "kernelspec": {
      "name": "python3",
      "display_name": "Python 3"
    }
  },
  "cells": [
    {
      "cell_type": "markdown",
      "metadata": {
        "id": "3pxCWfcZ2kFm"
      },
      "source": [
        "# Handwritten Digit Recognizer"
      ]
    },
    {
      "cell_type": "markdown",
      "metadata": {
        "id": "V5T4eXX92xLB"
      },
      "source": [
        "Note: This notebook is desinged to run with CPU (no GPU) runtime."
      ]
    },
    {
      "cell_type": "markdown",
      "metadata": {
        "id": "VJO3PPzqsq8d"
      },
      "source": [
        "####[HDR-01]\n",
        "Import modules."
      ]
    },
    {
      "cell_type": "code",
      "metadata": {
        "id": "gB5UUoAXIVmC"
      },
      "source": [
        "import os\n",
        "import numpy as np\n",
        "import matplotlib.pyplot as plt\n",
        "\n",
        "from tensorflow.keras import layers, models, saving"
      ],
      "execution_count": 1,
      "outputs": []
    },
    {
      "cell_type": "markdown",
      "metadata": {
        "id": "yz2h7_8St1wi"
      },
      "source": [
        "####[HDR-02]\n",
        "Mount your Google Drive on `/content/gdrive`."
      ]
    },
    {
      "cell_type": "code",
      "metadata": {
        "id": "tpL_niBTXggS",
        "outputId": "329e4170-379a-41c2-fb2e-9ce59d9de96c",
        "colab": {
          "base_uri": "https://localhost:8080/"
        }
      },
      "source": [
        "from google.colab import drive\n",
        "drive.mount('/content/gdrive')"
      ],
      "execution_count": 2,
      "outputs": [
        {
          "output_type": "stream",
          "name": "stdout",
          "text": [
            "Mounted at /content/gdrive\n"
          ]
        }
      ]
    },
    {
      "cell_type": "markdown",
      "metadata": {
        "id": "fBltXsSRvZn0"
      },
      "source": [
        "####[HDR-03]\n",
        "Confirm that the exported model file `MNIST_double.hd5` is on your Google Drive."
      ]
    },
    {
      "cell_type": "code",
      "metadata": {
        "id": "zq-uJjvNgO6A",
        "outputId": "7f8fc6a2-ec16-43a9-89b8-f2a0ff3228ca",
        "colab": {
          "base_uri": "https://localhost:8080/"
        }
      },
      "source": [
        "!ls -lh '/content/gdrive/My Drive/MNIST_double.keras'"
      ],
      "execution_count": 3,
      "outputs": [
        {
          "output_type": "stream",
          "name": "stdout",
          "text": [
            "-rw------- 1 root root 38M Feb 16 03:51 '/content/gdrive/My Drive/MNIST_double.keras'\n"
          ]
        }
      ]
    },
    {
      "cell_type": "markdown",
      "metadata": {
        "id": "aBJKXOtk3DWy"
      },
      "source": [
        "####[HDR-04]\n",
        "Restore the model from the exported model file."
      ]
    },
    {
      "cell_type": "code",
      "metadata": {
        "id": "BakcuKxdQoSL",
        "outputId": "b89e3297-ed4e-42c2-f273-0649afb6ad14",
        "colab": {
          "base_uri": "https://localhost:8080/",
          "height": 446
        }
      },
      "source": [
        "model = saving.load_model('/content/gdrive/My Drive/MNIST_double.keras')\n",
        "model.summary()"
      ],
      "execution_count": 4,
      "outputs": [
        {
          "output_type": "display_data",
          "data": {
            "text/plain": [
              "\u001b[1mModel: \"CNN_double_layer_model\"\u001b[0m\n"
            ],
            "text/html": [
              "<pre style=\"white-space:pre;overflow-x:auto;line-height:normal;font-family:Menlo,'DejaVu Sans Mono',consolas,'Courier New',monospace\"><span style=\"font-weight: bold\">Model: \"CNN_double_layer_model\"</span>\n",
              "</pre>\n"
            ]
          },
          "metadata": {}
        },
        {
          "output_type": "display_data",
          "data": {
            "text/plain": [
              "┏━━━━━━━━━━━━━━━━━━━━━━━━━━━━━━━━━━━━━━┳━━━━━━━━━━━━━━━━━━━━━━━━━━━━━┳━━━━━━━━━━━━━━━━━┓\n",
              "┃\u001b[1m \u001b[0m\u001b[1mLayer (type)                        \u001b[0m\u001b[1m \u001b[0m┃\u001b[1m \u001b[0m\u001b[1mOutput Shape               \u001b[0m\u001b[1m \u001b[0m┃\u001b[1m \u001b[0m\u001b[1m        Param #\u001b[0m\u001b[1m \u001b[0m┃\n",
              "┡━━━━━━━━━━━━━━━━━━━━━━━━━━━━━━━━━━━━━━╇━━━━━━━━━━━━━━━━━━━━━━━━━━━━━╇━━━━━━━━━━━━━━━━━┩\n",
              "│ reshape (\u001b[38;5;33mReshape\u001b[0m)                    │ (\u001b[38;5;45mNone\u001b[0m, \u001b[38;5;34m28\u001b[0m, \u001b[38;5;34m28\u001b[0m, \u001b[38;5;34m1\u001b[0m)           │               \u001b[38;5;34m0\u001b[0m │\n",
              "├──────────────────────────────────────┼─────────────────────────────┼─────────────────┤\n",
              "│ conv_filter1 (\u001b[38;5;33mConv2D\u001b[0m)                │ (\u001b[38;5;45mNone\u001b[0m, \u001b[38;5;34m28\u001b[0m, \u001b[38;5;34m28\u001b[0m, \u001b[38;5;34m32\u001b[0m)          │             \u001b[38;5;34m832\u001b[0m │\n",
              "├──────────────────────────────────────┼─────────────────────────────┼─────────────────┤\n",
              "│ max_pooling1 (\u001b[38;5;33mMaxPooling2D\u001b[0m)          │ (\u001b[38;5;45mNone\u001b[0m, \u001b[38;5;34m14\u001b[0m, \u001b[38;5;34m14\u001b[0m, \u001b[38;5;34m32\u001b[0m)          │               \u001b[38;5;34m0\u001b[0m │\n",
              "├──────────────────────────────────────┼─────────────────────────────┼─────────────────┤\n",
              "│ conv_filter2 (\u001b[38;5;33mConv2D\u001b[0m)                │ (\u001b[38;5;45mNone\u001b[0m, \u001b[38;5;34m14\u001b[0m, \u001b[38;5;34m14\u001b[0m, \u001b[38;5;34m64\u001b[0m)          │          \u001b[38;5;34m51,264\u001b[0m │\n",
              "├──────────────────────────────────────┼─────────────────────────────┼─────────────────┤\n",
              "│ max_pooling2 (\u001b[38;5;33mMaxPooling2D\u001b[0m)          │ (\u001b[38;5;45mNone\u001b[0m, \u001b[38;5;34m7\u001b[0m, \u001b[38;5;34m7\u001b[0m, \u001b[38;5;34m64\u001b[0m)            │               \u001b[38;5;34m0\u001b[0m │\n",
              "├──────────────────────────────────────┼─────────────────────────────┼─────────────────┤\n",
              "│ flatten (\u001b[38;5;33mFlatten\u001b[0m)                    │ (\u001b[38;5;45mNone\u001b[0m, \u001b[38;5;34m3136\u001b[0m)                │               \u001b[38;5;34m0\u001b[0m │\n",
              "├──────────────────────────────────────┼─────────────────────────────┼─────────────────┤\n",
              "│ hidden (\u001b[38;5;33mDense\u001b[0m)                       │ (\u001b[38;5;45mNone\u001b[0m, \u001b[38;5;34m1024\u001b[0m)                │       \u001b[38;5;34m3,212,288\u001b[0m │\n",
              "├──────────────────────────────────────┼─────────────────────────────┼─────────────────┤\n",
              "│ dropout (\u001b[38;5;33mDropout\u001b[0m)                    │ (\u001b[38;5;45mNone\u001b[0m, \u001b[38;5;34m1024\u001b[0m)                │               \u001b[38;5;34m0\u001b[0m │\n",
              "├──────────────────────────────────────┼─────────────────────────────┼─────────────────┤\n",
              "│ softmax (\u001b[38;5;33mDense\u001b[0m)                      │ (\u001b[38;5;45mNone\u001b[0m, \u001b[38;5;34m10\u001b[0m)                  │          \u001b[38;5;34m10,250\u001b[0m │\n",
              "└──────────────────────────────────────┴─────────────────────────────┴─────────────────┘\n"
            ],
            "text/html": [
              "<pre style=\"white-space:pre;overflow-x:auto;line-height:normal;font-family:Menlo,'DejaVu Sans Mono',consolas,'Courier New',monospace\">┏━━━━━━━━━━━━━━━━━━━━━━━━━━━━━━━━━━━━━━┳━━━━━━━━━━━━━━━━━━━━━━━━━━━━━┳━━━━━━━━━━━━━━━━━┓\n",
              "┃<span style=\"font-weight: bold\"> Layer (type)                         </span>┃<span style=\"font-weight: bold\"> Output Shape                </span>┃<span style=\"font-weight: bold\">         Param # </span>┃\n",
              "┡━━━━━━━━━━━━━━━━━━━━━━━━━━━━━━━━━━━━━━╇━━━━━━━━━━━━━━━━━━━━━━━━━━━━━╇━━━━━━━━━━━━━━━━━┩\n",
              "│ reshape (<span style=\"color: #0087ff; text-decoration-color: #0087ff\">Reshape</span>)                    │ (<span style=\"color: #00d7ff; text-decoration-color: #00d7ff\">None</span>, <span style=\"color: #00af00; text-decoration-color: #00af00\">28</span>, <span style=\"color: #00af00; text-decoration-color: #00af00\">28</span>, <span style=\"color: #00af00; text-decoration-color: #00af00\">1</span>)           │               <span style=\"color: #00af00; text-decoration-color: #00af00\">0</span> │\n",
              "├──────────────────────────────────────┼─────────────────────────────┼─────────────────┤\n",
              "│ conv_filter1 (<span style=\"color: #0087ff; text-decoration-color: #0087ff\">Conv2D</span>)                │ (<span style=\"color: #00d7ff; text-decoration-color: #00d7ff\">None</span>, <span style=\"color: #00af00; text-decoration-color: #00af00\">28</span>, <span style=\"color: #00af00; text-decoration-color: #00af00\">28</span>, <span style=\"color: #00af00; text-decoration-color: #00af00\">32</span>)          │             <span style=\"color: #00af00; text-decoration-color: #00af00\">832</span> │\n",
              "├──────────────────────────────────────┼─────────────────────────────┼─────────────────┤\n",
              "│ max_pooling1 (<span style=\"color: #0087ff; text-decoration-color: #0087ff\">MaxPooling2D</span>)          │ (<span style=\"color: #00d7ff; text-decoration-color: #00d7ff\">None</span>, <span style=\"color: #00af00; text-decoration-color: #00af00\">14</span>, <span style=\"color: #00af00; text-decoration-color: #00af00\">14</span>, <span style=\"color: #00af00; text-decoration-color: #00af00\">32</span>)          │               <span style=\"color: #00af00; text-decoration-color: #00af00\">0</span> │\n",
              "├──────────────────────────────────────┼─────────────────────────────┼─────────────────┤\n",
              "│ conv_filter2 (<span style=\"color: #0087ff; text-decoration-color: #0087ff\">Conv2D</span>)                │ (<span style=\"color: #00d7ff; text-decoration-color: #00d7ff\">None</span>, <span style=\"color: #00af00; text-decoration-color: #00af00\">14</span>, <span style=\"color: #00af00; text-decoration-color: #00af00\">14</span>, <span style=\"color: #00af00; text-decoration-color: #00af00\">64</span>)          │          <span style=\"color: #00af00; text-decoration-color: #00af00\">51,264</span> │\n",
              "├──────────────────────────────────────┼─────────────────────────────┼─────────────────┤\n",
              "│ max_pooling2 (<span style=\"color: #0087ff; text-decoration-color: #0087ff\">MaxPooling2D</span>)          │ (<span style=\"color: #00d7ff; text-decoration-color: #00d7ff\">None</span>, <span style=\"color: #00af00; text-decoration-color: #00af00\">7</span>, <span style=\"color: #00af00; text-decoration-color: #00af00\">7</span>, <span style=\"color: #00af00; text-decoration-color: #00af00\">64</span>)            │               <span style=\"color: #00af00; text-decoration-color: #00af00\">0</span> │\n",
              "├──────────────────────────────────────┼─────────────────────────────┼─────────────────┤\n",
              "│ flatten (<span style=\"color: #0087ff; text-decoration-color: #0087ff\">Flatten</span>)                    │ (<span style=\"color: #00d7ff; text-decoration-color: #00d7ff\">None</span>, <span style=\"color: #00af00; text-decoration-color: #00af00\">3136</span>)                │               <span style=\"color: #00af00; text-decoration-color: #00af00\">0</span> │\n",
              "├──────────────────────────────────────┼─────────────────────────────┼─────────────────┤\n",
              "│ hidden (<span style=\"color: #0087ff; text-decoration-color: #0087ff\">Dense</span>)                       │ (<span style=\"color: #00d7ff; text-decoration-color: #00d7ff\">None</span>, <span style=\"color: #00af00; text-decoration-color: #00af00\">1024</span>)                │       <span style=\"color: #00af00; text-decoration-color: #00af00\">3,212,288</span> │\n",
              "├──────────────────────────────────────┼─────────────────────────────┼─────────────────┤\n",
              "│ dropout (<span style=\"color: #0087ff; text-decoration-color: #0087ff\">Dropout</span>)                    │ (<span style=\"color: #00d7ff; text-decoration-color: #00d7ff\">None</span>, <span style=\"color: #00af00; text-decoration-color: #00af00\">1024</span>)                │               <span style=\"color: #00af00; text-decoration-color: #00af00\">0</span> │\n",
              "├──────────────────────────────────────┼─────────────────────────────┼─────────────────┤\n",
              "│ softmax (<span style=\"color: #0087ff; text-decoration-color: #0087ff\">Dense</span>)                      │ (<span style=\"color: #00d7ff; text-decoration-color: #00d7ff\">None</span>, <span style=\"color: #00af00; text-decoration-color: #00af00\">10</span>)                  │          <span style=\"color: #00af00; text-decoration-color: #00af00\">10,250</span> │\n",
              "└──────────────────────────────────────┴─────────────────────────────┴─────────────────┘\n",
              "</pre>\n"
            ]
          },
          "metadata": {}
        },
        {
          "output_type": "display_data",
          "data": {
            "text/plain": [
              "\u001b[1m Total params: \u001b[0m\u001b[38;5;34m9,823,904\u001b[0m (37.48 MB)\n"
            ],
            "text/html": [
              "<pre style=\"white-space:pre;overflow-x:auto;line-height:normal;font-family:Menlo,'DejaVu Sans Mono',consolas,'Courier New',monospace\"><span style=\"font-weight: bold\"> Total params: </span><span style=\"color: #00af00; text-decoration-color: #00af00\">9,823,904</span> (37.48 MB)\n",
              "</pre>\n"
            ]
          },
          "metadata": {}
        },
        {
          "output_type": "display_data",
          "data": {
            "text/plain": [
              "\u001b[1m Trainable params: \u001b[0m\u001b[38;5;34m3,274,634\u001b[0m (12.49 MB)\n"
            ],
            "text/html": [
              "<pre style=\"white-space:pre;overflow-x:auto;line-height:normal;font-family:Menlo,'DejaVu Sans Mono',consolas,'Courier New',monospace\"><span style=\"font-weight: bold\"> Trainable params: </span><span style=\"color: #00af00; text-decoration-color: #00af00\">3,274,634</span> (12.49 MB)\n",
              "</pre>\n"
            ]
          },
          "metadata": {}
        },
        {
          "output_type": "display_data",
          "data": {
            "text/plain": [
              "\u001b[1m Non-trainable params: \u001b[0m\u001b[38;5;34m0\u001b[0m (0.00 B)\n"
            ],
            "text/html": [
              "<pre style=\"white-space:pre;overflow-x:auto;line-height:normal;font-family:Menlo,'DejaVu Sans Mono',consolas,'Courier New',monospace\"><span style=\"font-weight: bold\"> Non-trainable params: </span><span style=\"color: #00af00; text-decoration-color: #00af00\">0</span> (0.00 B)\n",
              "</pre>\n"
            ]
          },
          "metadata": {}
        },
        {
          "output_type": "display_data",
          "data": {
            "text/plain": [
              "\u001b[1m Optimizer params: \u001b[0m\u001b[38;5;34m6,549,270\u001b[0m (24.98 MB)\n"
            ],
            "text/html": [
              "<pre style=\"white-space:pre;overflow-x:auto;line-height:normal;font-family:Menlo,'DejaVu Sans Mono',consolas,'Courier New',monospace\"><span style=\"font-weight: bold\"> Optimizer params: </span><span style=\"color: #00af00; text-decoration-color: #00af00\">6,549,270</span> (24.98 MB)\n",
              "</pre>\n"
            ]
          },
          "metadata": {}
        }
      ]
    },
    {
      "cell_type": "markdown",
      "metadata": {
        "id": "O5Q6GaJC3ICa"
      },
      "source": [
        "####[HDR-05]\n",
        "Define a model to extract outputs from intermediate layers."
      ]
    },
    {
      "cell_type": "code",
      "metadata": {
        "id": "gCrvgrephgYN"
      },
      "source": [
        "layer_outputs = [model.get_layer('max_pooling1').output,\n",
        "                 model.get_layer('max_pooling2').output]\n",
        "model2 = models.Model(inputs=model.inputs[0], outputs=layer_outputs)"
      ],
      "execution_count": 5,
      "outputs": []
    },
    {
      "cell_type": "markdown",
      "metadata": {
        "id": "EMg7wjd13Lg2"
      },
      "source": [
        "####[HDR-06]\n",
        "Define a Javascript function to create a drawing canvas."
      ]
    },
    {
      "cell_type": "code",
      "metadata": {
        "id": "mGb8L6T1qu7Y"
      },
      "source": [
        "input_form = \"\"\"\n",
        "<table>\n",
        "<td style=\"border-style: none;\">\n",
        "<div style=\"border: solid 2px #666; width: 143px; height: 144px;\">\n",
        "<canvas width=\"140\" height=\"140\"></canvas>\n",
        "</div></td>\n",
        "<td style=\"border-style: none;\">\n",
        "<button onclick=\"clear_value()\">Clear</button>\n",
        "</td>\n",
        "</table>\n",
        "\"\"\"\n",
        "\n",
        "javascript = \"\"\"\n",
        "<script type=\"text/Javascript\">\n",
        "    var pixels = [];\n",
        "    for (var i = 0; i < 28*28; i++) pixels[i] = 0;\n",
        "    var click = 0;\n",
        "\n",
        "    var canvas = document.querySelector(\"canvas\");\n",
        "    canvas.addEventListener(\"mousemove\", function(e) {\n",
        "        if (e.buttons == 1) {\n",
        "            click = 1;\n",
        "            canvas.getContext(\"2d\").fillStyle = \"rgb(0, 0, 0)\";\n",
        "            canvas.getContext(\"2d\").fillRect(e.offsetX, e.offsetY, 8, 8);\n",
        "            x = Math.floor(e.offsetY*0.2);\n",
        "            y = Math.floor(e.offsetX*0.2) + 1;\n",
        "            for (var dy = 0; dy < 2; dy++) {\n",
        "                for (var dx = 0; dx < 2; dx++) {\n",
        "                    if ((x + dx < 28) && (y + dy < 28)) {\n",
        "                        pixels[(y+dy)+(x+dx)*28] = 1;\n",
        "                    }\n",
        "                }\n",
        "            }\n",
        "        } else {\n",
        "            if (click == 1) set_value()\n",
        "            click = 0;\n",
        "        }\n",
        "    });\n",
        "\n",
        "    function set_value() {\n",
        "        var result = \"\";\n",
        "        for (var i = 0; i < 28*28; i++) result += pixels[i] + \",\";\n",
        "        google.colab.kernel.invokeFunction(\n",
        "                          'notebook.set_image', [result], {});\n",
        "    }\n",
        "\n",
        "    function clear_value() {\n",
        "        canvas.getContext(\"2d\").fillStyle = \"rgb(255, 255, 255)\";\n",
        "        canvas.getContext(\"2d\").fillRect(0, 0, 140, 140);\n",
        "        for (var i = 0; i < 28*28; i++) pixels[i] = 0;\n",
        "    }\n",
        "</script>\n",
        "\"\"\""
      ],
      "execution_count": 6,
      "outputs": []
    },
    {
      "cell_type": "markdown",
      "metadata": {
        "id": "IY6_TVtx3cFw"
      },
      "source": [
        "####[HDR-07]\n",
        "Show a drawing canvas."
      ]
    },
    {
      "cell_type": "code",
      "metadata": {
        "id": "aTtpz_KFq3RU",
        "outputId": "0fed6904-d3f0-4324-acda-fd4f6f9c56ee",
        "colab": {
          "base_uri": "https://localhost:8080/",
          "height": 171
        }
      },
      "source": [
        "from google.colab import output\n",
        "from IPython.display import HTML\n",
        "\n",
        "def set_image(result):\n",
        "    global image\n",
        "    image = np.array([float(x) for x in result.split(',')[:-1]])\n",
        "\n",
        "image = None\n",
        "output.register_callback('notebook.set_image', set_image)\n",
        "\n",
        "HTML(input_form + javascript)"
      ],
      "execution_count": 7,
      "outputs": [
        {
          "output_type": "execute_result",
          "data": {
            "text/plain": [
              "<IPython.core.display.HTML object>"
            ],
            "text/html": [
              "\n",
              "<table>\n",
              "<td style=\"border-style: none;\">\n",
              "<div style=\"border: solid 2px #666; width: 143px; height: 144px;\">\n",
              "<canvas width=\"140\" height=\"140\"></canvas>\n",
              "</div></td>\n",
              "<td style=\"border-style: none;\">\n",
              "<button onclick=\"clear_value()\">Clear</button>\n",
              "</td>\n",
              "</table>\n",
              "\n",
              "<script type=\"text/Javascript\">\n",
              "    var pixels = [];\n",
              "    for (var i = 0; i < 28*28; i++) pixels[i] = 0;\n",
              "    var click = 0;\n",
              "\n",
              "    var canvas = document.querySelector(\"canvas\");\n",
              "    canvas.addEventListener(\"mousemove\", function(e) {\n",
              "        if (e.buttons == 1) {\n",
              "            click = 1;\n",
              "            canvas.getContext(\"2d\").fillStyle = \"rgb(0, 0, 0)\";\n",
              "            canvas.getContext(\"2d\").fillRect(e.offsetX, e.offsetY, 8, 8);\n",
              "            x = Math.floor(e.offsetY*0.2);\n",
              "            y = Math.floor(e.offsetX*0.2) + 1;\n",
              "            for (var dy = 0; dy < 2; dy++) {\n",
              "                for (var dx = 0; dx < 2; dx++) {\n",
              "                    if ((x + dx < 28) && (y + dy < 28)) {\n",
              "                        pixels[(y+dy)+(x+dx)*28] = 1;\n",
              "                    }\n",
              "                }\n",
              "            }\n",
              "        } else {\n",
              "            if (click == 1) set_value()\n",
              "            click = 0;\n",
              "        }\n",
              "    });\n",
              "\n",
              "    function set_value() {\n",
              "        var result = \"\";\n",
              "        for (var i = 0; i < 28*28; i++) result += pixels[i] + \",\";\n",
              "        google.colab.kernel.invokeFunction(\n",
              "                          'notebook.set_image', [result], {});\n",
              "    }\n",
              "\n",
              "    function clear_value() {\n",
              "        canvas.getContext(\"2d\").fillStyle = \"rgb(255, 255, 255)\";\n",
              "        canvas.getContext(\"2d\").fillRect(0, 0, 140, 140);\n",
              "        for (var i = 0; i < 28*28; i++) pixels[i] = 0;\n",
              "    }\n",
              "</script>\n"
            ]
          },
          "metadata": {},
          "execution_count": 7
        }
      ]
    },
    {
      "cell_type": "markdown",
      "metadata": {
        "id": "48D4ZoyT3mKI"
      },
      "source": [
        "####[HDR-08]\n",
        "Make a prediction for the handwritten digit on the drawing canvas."
      ]
    },
    {
      "cell_type": "code",
      "metadata": {
        "id": "04AiP_WQq6qp",
        "outputId": "b5e3c3fe-b6e3-4943-8acd-4fa6b692b1d0",
        "colab": {
          "base_uri": "https://localhost:8080/",
          "height": 297
        }
      },
      "source": [
        "p_val = model.predict(image.reshape(1, 28*28), verbose=0)\n",
        "\n",
        "fig = plt.figure(figsize=(6, 3))\n",
        "pred = p_val[0]\n",
        "subplot = fig.add_subplot(1, 1, 1)\n",
        "subplot.set_xticks(range(10))\n",
        "subplot.set_xlim(-0.5, 9.5)\n",
        "subplot.set_ylim(0, 1)\n",
        "_ = subplot.bar(range(10), pred, align='center')"
      ],
      "execution_count": 12,
      "outputs": [
        {
          "output_type": "display_data",
          "data": {
            "text/plain": [
              "<Figure size 600x300 with 1 Axes>"
            ],
            "image/png": "[encoded data removed]"
          },
          "metadata": {}
        }
      ]
    },
    {
      "cell_type": "markdown",
      "metadata": {
        "id": "p8zYpQqy3wbB"
      },
      "source": [
        "####[HDR-09]\n",
        "Get output images from the convolutional filters."
      ]
    },
    {
      "cell_type": "code",
      "metadata": {
        "id": "oD-7fgQjibJb",
        "colab": {
          "base_uri": "https://localhost:8080/"
        },
        "outputId": "4b8aebe4-6263-4839-f154-e7661ad1a78e"
      },
      "source": [
        "pool1_output, pool2_output = model2.predict(image.reshape(1, 28*28))"
      ],
      "execution_count": 13,
      "outputs": [
        {
          "output_type": "stream",
          "name": "stdout",
          "text": [
            "\u001b[1m1/1\u001b[0m \u001b[32m━━━━━━━━━━━━━━━━━━━━\u001b[0m\u001b[37m\u001b[0m \u001b[1m0s\u001b[0m 122ms/step\n"
          ]
        }
      ]
    },
    {
      "cell_type": "markdown",
      "metadata": {
        "id": "A1p-IgWo35LX"
      },
      "source": [
        "####[HDR-10]\n",
        "Show output images from the first pooling layer."
      ]
    },
    {
      "cell_type": "code",
      "metadata": {
        "id": "pyCLzBUhroFE",
        "colab": {
          "base_uri": "https://localhost:8080/",
          "height": 184
        },
        "outputId": "df55cf5f-1765-4be9-c9e0-de7843ba23ee"
      },
      "source": [
        "layer = pool1_output\n",
        "fig = plt.figure(figsize=(20, 10))\n",
        "for i in range(layer.shape[-1]):\n",
        "    subplot = fig.add_subplot(8, 16, i+1)\n",
        "    subplot.set_xticks([])\n",
        "    subplot.set_yticks([])\n",
        "    subplot.imshow(layer[0, :, :, i], cmap=plt.cm.gray_r)"
      ],
      "execution_count": 14,
      "outputs": [
        {
          "output_type": "display_data",
          "data": {
            "text/plain": [
              "<Figure size 2000x1000 with 32 Axes>"
            ],
            "image/png": "[encoded data removed]"
          },
          "metadata": {}
        }
      ]
    },
    {
      "cell_type": "markdown",
      "metadata": {
        "id": "BrQV55az4HKz"
      },
      "source": [
        "####[HDR-11]\n",
        "Show output images from the second pooling layer."
      ]
    },
    {
      "cell_type": "code",
      "metadata": {
        "id": "Ix937xqIiJCi",
        "colab": {
          "base_uri": "https://localhost:8080/",
          "height": 349
        },
        "outputId": "95d61d54-122c-4bad-f908-bbf531bd7892"
      },
      "source": [
        "layer = pool2_output\n",
        "fig = plt.figure(figsize=(20, 10))\n",
        "for i in range(layer.shape[-1]):\n",
        "    subplot = fig.add_subplot(8, 16, i+1)\n",
        "    subplot.set_xticks([])\n",
        "    subplot.set_yticks([])\n",
        "    subplot.imshow(layer[0, :, :, i], cmap=plt.cm.gray_r)"
      ],
      "execution_count": 15,
      "outputs": [
        {
          "output_type": "display_data",
          "data": {
            "text/plain": [
              "<Figure size 2000x1000 with 64 Axes>"
            ],
            "image/png": "[encoded data removed]"
          },
          "metadata": {}
        }
      ]
    }
  ]
}