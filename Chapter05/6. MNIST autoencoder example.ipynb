{
  "nbformat": 4,
  "nbformat_minor": 0,
  "metadata": {
    "colab": {
      "provenance": []
    },
    "kernelspec": {
      "name": "python3",
      "display_name": "Python 3"
    },
    "accelerator": "GPU"
  },
  "cells": [
    {
      "cell_type": "markdown",
      "metadata": {
        "id": "m_3F2cWjR5oY"
      },
      "source": [
        "# MNIST Autoencoder Example"
      ]
    },
    {
      "cell_type": "markdown",
      "metadata": {
        "id": "Xb2oPe61FRhE"
      },
      "source": [
        "Note: This notebook is desinged to run with Python3 and CPU (no GPU) runtime.\n",
        "\n",
        "![Python 3 and CPU runtime](https://raw.githubusercontent.com/enakai00/colab_tfbook/master/docs/imgs/runtime_cpu.png)"
      ]
    },
    {
      "cell_type": "markdown",
      "metadata": {
        "id": "-xkr13nCB0Il"
      },
      "source": [
        "This notebook uses TensorFlow2.x."
      ]
    },
    {
      "cell_type": "code",
      "metadata": {
        "id": "kop8_9RihcJX",
        "outputId": "a2125046-f418-4951-ab5c-9d2ab333280c",
        "colab": {
          "base_uri": "https://localhost:8080/"
        }
      },
      "source": [
        "%tensorflow_version 2.x"
      ],
      "execution_count": null,
      "outputs": [
        {
          "output_type": "stream",
          "name": "stdout",
          "text": [
            "Colab only includes TensorFlow 2.x; %tensorflow_version has no effect.\n"
          ]
        }
      ]
    },
    {
      "cell_type": "markdown",
      "metadata": {
        "id": "ATCLp_uaFWKn"
      },
      "source": [
        "####[MAE-01]\n",
        "Import modules."
      ]
    },
    {
      "cell_type": "code",
      "metadata": {
        "id": "8uoZRr9eOmwG"
      },
      "source": [
        "import numpy as np\n",
        "import matplotlib.pyplot as plt\n",
        "\n",
        "import tensorflow as tf\n",
        "from tensorflow.keras import layers, models\n",
        "from tensorflow.keras.datasets import mnist"
      ],
      "execution_count": null,
      "outputs": []
    },
    {
      "cell_type": "markdown",
      "metadata": {
        "id": "qHRHP6VmFiBf"
      },
      "source": [
        "####[MAE-02]\n",
        "Download the MNIST dataset and store into NumPy arrays."
      ]
    },
    {
      "cell_type": "code",
      "metadata": {
        "id": "0ByKCdhESGpP",
        "colab": {
          "base_uri": "https://localhost:8080/"
        },
        "outputId": "9db94435-3b6f-441c-a6b0-f5c2bc996d10"
      },
      "source": [
        "(train_images, train_labels), (test_images, test_labels) = mnist.load_data()\n",
        "train_images = train_images.reshape(\n",
        "                  (len(train_images), 784)).astype('float32') / 255\n",
        "test_images = test_images.reshape(\n",
        "                  (len(test_images), 784)).astype('float32') / 255\n",
        "train_labels = tf.keras.utils.to_categorical(train_labels, 10)\n",
        "test_labels = tf.keras.utils.to_categorical(test_labels, 10)"
      ],
      "execution_count": null,
      "outputs": [
        {
          "output_type": "stream",
          "name": "stdout",
          "text": [
            "Downloading data from https://storage.googleapis.com/tensorflow/tf-keras-datasets/mnist.npz\n",
            "11490434/11490434 [==============================] - 0s 0us/step\n"
          ]
        }
      ]
    },
    {
      "cell_type": "markdown",
      "metadata": {
        "id": "Yv8XFYsnFmhm"
      },
      "source": [
        "####[MAE-03]\n",
        "Define an autoencoder model for MNIST images."
      ]
    },
    {
      "cell_type": "code",
      "metadata": {
        "id": "qKvSYzl9SSkf",
        "outputId": "cb268e1b-4f5c-4868-c949-e81e9b351713",
        "colab": {
          "base_uri": "https://localhost:8080/"
        }
      },
      "source": [
        "model = models.Sequential()\n",
        "model.add(layers.Dense(256, activation='relu', input_shape=(28*28,)))\n",
        "model.add(layers.Dense(128, activation='relu'))\n",
        "model.add(layers.Dense(16, activation='relu'))\n",
        "model.add(layers.Dense(128, activation='relu'))\n",
        "model.add(layers.Dense(256, activation='relu'))\n",
        "model.add(layers.Dense(784, activation='sigmoid'))\n",
        "\n",
        "model.summary()"
      ],
      "execution_count": null,
      "outputs": [
        {
          "output_type": "stream",
          "name": "stdout",
          "text": [
            "Model: \"sequential\"\n",
            "_________________________________________________________________\n",
            " Layer (type)                Output Shape              Param #   \n",
            "=================================================================\n",
            " dense (Dense)               (None, 256)               200960    \n",
            "                                                                 \n",
            " dense_1 (Dense)             (None, 128)               32896     \n",
            "                                                                 \n",
            " dense_2 (Dense)             (None, 16)                2064      \n",
            "                                                                 \n",
            " dense_3 (Dense)             (None, 128)               2176      \n",
            "                                                                 \n",
            " dense_4 (Dense)             (None, 256)               33024     \n",
            "                                                                 \n",
            " dense_5 (Dense)             (None, 784)               201488    \n",
            "                                                                 \n",
            "=================================================================\n",
            "Total params: 472,608\n",
            "Trainable params: 472,608\n",
            "Non-trainable params: 0\n",
            "_________________________________________________________________\n"
          ]
        }
      ]
    },
    {
      "cell_type": "markdown",
      "metadata": {
        "id": "CqEVpoE8GBnw"
      },
      "source": [
        "####[MAE-04]\n",
        "Compile the model using the Adam optimizer, and MSE as a loss function."
      ]
    },
    {
      "cell_type": "code",
      "metadata": {
        "id": "XEwdyyX5SeHg"
      },
      "source": [
        "model.compile(optimizer='adam', loss='mse')"
      ],
      "execution_count": null,
      "outputs": []
    },
    {
      "cell_type": "markdown",
      "metadata": {
        "id": "OzHiZ02QGOr_"
      },
      "source": [
        "####[MAE-05]\n",
        "Define a function to show reconstructed images."
      ]
    },
    {
      "cell_type": "code",
      "metadata": {
        "id": "ysTYu_WoSiOc"
      },
      "source": [
        "def show_result():\n",
        "    results = model.predict(test_images[:8])\n",
        "  \n",
        "    fig = plt.figure(figsize=(16, 2.7))\n",
        "    for i in range(8):\n",
        "      subplot = fig.add_subplot(2, 10, i+1)\n",
        "      subplot.set_xticks([])\n",
        "      subplot.set_yticks([])\n",
        "      subplot.imshow(test_images[i].reshape((28, 28)),\n",
        "                     vmin=0, vmax=1, cmap=plt.cm.gray_r)\n",
        "\n",
        "      subplot = fig.add_subplot(2, 10, i+11)\n",
        "      subplot.set_xticks([])\n",
        "      subplot.set_yticks([])\n",
        "      subplot.imshow(results[i].reshape((28, 28)),\n",
        "                     vmin=0, vmax=1, cmap=plt.cm.gray_r)"
      ],
      "execution_count": null,
      "outputs": []
    },
    {
      "cell_type": "markdown",
      "metadata": {
        "id": "l93-rrTEGdcr"
      },
      "source": [
        "####[MAE-06]\n",
        "Train the model for a single epoch with 30,000 images, and show the intermediate result."
      ]
    },
    {
      "cell_type": "code",
      "metadata": {
        "id": "yR5SvOxtSu1v",
        "outputId": "5437c3bb-0f0a-418d-e424-d0d287a6a4fe",
        "colab": {
          "base_uri": "https://localhost:8080/",
          "height": 281
        }
      },
      "source": [
        "history = model.fit(train_images[:30000], train_images[:30000],\n",
        "                    batch_size=256, epochs=1)\n",
        "show_result()"
      ],
      "execution_count": null,
      "outputs": [
        {
          "output_type": "stream",
          "name": "stdout",
          "text": [
            "118/118 [==============================] - 9s 7ms/step - loss: 0.0790\n",
            "1/1 [==============================] - 0s 99ms/step\n"
          ]
        },
        {
          "output_type": "display_data",
          "data": {
            "text/plain": [
              "<Figure size 1600x270 with 16 Axes>"
            ],
            "image/png": "[encoded data removed]"
          },
          "metadata": {}
        }
      ]
    },
    {
      "cell_type": "markdown",
      "metadata": {
        "id": "Cxju3n-DGt0p"
      },
      "source": [
        "####[MAE-07]\n",
        "Train the model for additional epochs, and show the final result."
      ]
    },
    {
      "cell_type": "code",
      "metadata": {
        "id": "33eI8EHqTHgo",
        "outputId": "df5b1f2d-2a2a-4580-959d-2fe24e3738ce",
        "colab": {
          "base_uri": "https://localhost:8080/",
          "height": 483
        }
      },
      "source": [
        "history = model.fit(train_images, train_images,\n",
        "                    batch_size=256, epochs=6)\n",
        "show_result()"
      ],
      "execution_count": null,
      "outputs": [
        {
          "output_type": "stream",
          "name": "stdout",
          "text": [
            "Epoch 1/6\n",
            "235/235 [==============================] - 1s 5ms/step - loss: 0.0359\n",
            "Epoch 2/6\n",
            "235/235 [==============================] - 1s 4ms/step - loss: 0.0251\n",
            "Epoch 3/6\n",
            "235/235 [==============================] - 1s 4ms/step - loss: 0.0213\n",
            "Epoch 4/6\n",
            "235/235 [==============================] - 1s 4ms/step - loss: 0.0196\n",
            "Epoch 5/6\n",
            "235/235 [==============================] - 1s 4ms/step - loss: 0.0185\n",
            "Epoch 6/6\n",
            "235/235 [==============================] - 1s 4ms/step - loss: 0.0177\n",
            "1/1 [==============================] - 0s 18ms/step\n"
          ]
        },
        {
          "output_type": "display_data",
          "data": {
            "text/plain": [
              "<Figure size 1600x270 with 16 Axes>"
            ],
            "image/png": "[encoded data removed]"
          },
          "metadata": {}
        }
      ]
    },
    {
      "cell_type": "markdown",
      "metadata": {
        "id": "3reJyL0bG0KL"
      },
      "source": [
        "####[MAE-08]\n",
        "Define a Javascript function to create a drawing canvas."
      ]
    },
    {
      "cell_type": "code",
      "metadata": {
        "id": "s3MKTkF7Tjx0"
      },
      "source": [
        "input_form = \"\"\"\n",
        "<table>\n",
        "<td style=\"border-style: none;\">\n",
        "<div style=\"border: solid 2px #666; width: 143px; height: 144px;\">\n",
        "<canvas width=\"140\" height=\"140\"></canvas>\n",
        "</div></td>\n",
        "<td style=\"border-style: none;\">\n",
        "<button onclick=\"clear_value()\">Clear</button>\n",
        "</td>\n",
        "</table>\n",
        "\"\"\"\n",
        "\n",
        "javascript = \"\"\"\n",
        "<script type=\"text/Javascript\">\n",
        "    var pixels = [];\n",
        "    for (var i = 0; i < 28*28; i++) pixels[i] = 0;\n",
        "    var click = 0;\n",
        "\n",
        "    var canvas = document.querySelector(\"canvas\");\n",
        "    canvas.addEventListener(\"mousemove\", function(e) {\n",
        "        if (e.buttons == 1) {\n",
        "            click = 1;\n",
        "            canvas.getContext(\"2d\").fillStyle = \"rgb(0, 0, 0)\";\n",
        "            canvas.getContext(\"2d\").fillRect(e.offsetX, e.offsetY, 8, 8);\n",
        "            x = Math.floor(e.offsetY*0.2);\n",
        "            y = Math.floor(e.offsetX*0.2) + 1;\n",
        "            for (var dy = 0; dy < 2; dy++) {\n",
        "                for (var dx = 0; dx < 2; dx++) {\n",
        "                    if ((x + dx < 28) && (y + dy < 28)) {\n",
        "                        pixels[(y+dy)+(x+dx)*28] = 1;\n",
        "                    }\n",
        "                }\n",
        "            }\n",
        "        } else {\n",
        "            if (click == 1) set_value()\n",
        "            click = 0;\n",
        "        }\n",
        "    });\n",
        "    \n",
        "    function set_value() {\n",
        "        var result = \"\";\n",
        "        for (var i = 0; i < 28*28; i++) result += pixels[i] + \",\";\n",
        "        google.colab.kernel.invokeFunction(\n",
        "                          'notebook.set_image', [result], {});\n",
        "    }\n",
        "    \n",
        "    function clear_value() {\n",
        "        canvas.getContext(\"2d\").fillStyle = \"rgb(255, 255, 255)\";\n",
        "        canvas.getContext(\"2d\").fillRect(0, 0, 140, 140);\n",
        "        for (var i = 0; i < 28*28; i++) pixels[i] = 0;\n",
        "    }\n",
        "</script>\n",
        "\"\"\""
      ],
      "execution_count": null,
      "outputs": []
    },
    {
      "cell_type": "markdown",
      "metadata": {
        "id": "ldxT9u0MHHFx"
      },
      "source": [
        "####[MAE-09]\n",
        "Show a drawing canvas."
      ]
    },
    {
      "cell_type": "code",
      "metadata": {
        "id": "1woQaR70TsRA",
        "outputId": "0f3f9bfe-4c16-45f8-e025-715a7f318d70",
        "colab": {
          "base_uri": "https://localhost:8080/",
          "height": 171
        }
      },
      "source": [
        "from google.colab import output  \n",
        "from IPython.display import HTML\n",
        "\n",
        "def set_image(result):\n",
        "    global image\n",
        "    image = np.array([float(x) for x in result.split(',')[:-1]])\n",
        "\n",
        "image = None\n",
        "output.register_callback('notebook.set_image', set_image)\n",
        "\n",
        "HTML(input_form + javascript)"
      ],
      "execution_count": null,
      "outputs": [
        {
          "output_type": "execute_result",
          "data": {
            "text/plain": [
              "<IPython.core.display.HTML object>"
            ],
            "text/html": [
              "\n",
              "<table>\n",
              "<td style=\"border-style: none;\">\n",
              "<div style=\"border: solid 2px #666; width: 143px; height: 144px;\">\n",
              "<canvas width=\"140\" height=\"140\"></canvas>\n",
              "</div></td>\n",
              "<td style=\"border-style: none;\">\n",
              "<button onclick=\"clear_value()\">Clear</button>\n",
              "</td>\n",
              "</table>\n",
              "\n",
              "<script type=\"text/Javascript\">\n",
              "    var pixels = [];\n",
              "    for (var i = 0; i < 28*28; i++) pixels[i] = 0;\n",
              "    var click = 0;\n",
              "\n",
              "    var canvas = document.querySelector(\"canvas\");\n",
              "    canvas.addEventListener(\"mousemove\", function(e) {\n",
              "        if (e.buttons == 1) {\n",
              "            click = 1;\n",
              "            canvas.getContext(\"2d\").fillStyle = \"rgb(0, 0, 0)\";\n",
              "            canvas.getContext(\"2d\").fillRect(e.offsetX, e.offsetY, 8, 8);\n",
              "            x = Math.floor(e.offsetY*0.2);\n",
              "            y = Math.floor(e.offsetX*0.2) + 1;\n",
              "            for (var dy = 0; dy < 2; dy++) {\n",
              "                for (var dx = 0; dx < 2; dx++) {\n",
              "                    if ((x + dx < 28) && (y + dy < 28)) {\n",
              "                        pixels[(y+dy)+(x+dx)*28] = 1;\n",
              "                    }\n",
              "                }\n",
              "            }\n",
              "        } else {\n",
              "            if (click == 1) set_value()\n",
              "            click = 0;\n",
              "        }\n",
              "    });\n",
              "    \n",
              "    function set_value() {\n",
              "        var result = \"\";\n",
              "        for (var i = 0; i < 28*28; i++) result += pixels[i] + \",\";\n",
              "        google.colab.kernel.invokeFunction(\n",
              "                          'notebook.set_image', [result], {});\n",
              "    }\n",
              "    \n",
              "    function clear_value() {\n",
              "        canvas.getContext(\"2d\").fillStyle = \"rgb(255, 255, 255)\";\n",
              "        canvas.getContext(\"2d\").fillRect(0, 0, 140, 140);\n",
              "        for (var i = 0; i < 28*28; i++) pixels[i] = 0;\n",
              "    }\n",
              "</script>\n"
            ]
          },
          "metadata": {},
          "execution_count": 10
        }
      ]
    },
    {
      "cell_type": "markdown",
      "metadata": {
        "id": "mEQmyfkBHMEi"
      },
      "source": [
        "####[MAE-10]\n",
        "Show a resconstructed image from the handwritten example."
      ]
    },
    {
      "cell_type": "code",
      "metadata": {
        "id": "dkZgZqqST0dT",
        "outputId": "40666cb2-ff10-45f2-d0fd-6883db1afe4b",
        "colab": {
          "base_uri": "https://localhost:8080/",
          "height": 266
        }
      },
      "source": [
        "results = model.predict(np.array([image]), verbose=0)\n",
        "\n",
        "fig = plt.figure(figsize=(6, 3))\n",
        "subplot = fig.add_subplot(1, 2, 1)\n",
        "subplot.set_xticks([])\n",
        "subplot.set_yticks([])\n",
        "subplot.imshow(np.array(image).reshape((28, 28)), \n",
        "               vmin=0, vmax=1, cmap=plt.cm.gray_r)\n",
        "subplot = fig.add_subplot(1, 2, 2)\n",
        "subplot.set_xticks([])\n",
        "subplot.set_yticks([])\n",
        "subplot.imshow(results[0].reshape((28, 28)),\n",
        "               vmin=0, vmax=1, cmap=plt.cm.gray_r)"
      ],
      "execution_count": null,
      "outputs": [
        {
          "output_type": "execute_result",
          "data": {
            "text/plain": [
              "<matplotlib.image.AxesImage at 0x7f8bf44003d0>"
            ]
          },
          "metadata": {},
          "execution_count": 15
        },
        {
          "output_type": "display_data",
          "data": {
            "text/plain": [
              "<Figure size 600x300 with 2 Axes>"
            ],
            "image/png": "[encoded data removed]"
          },
          "metadata": {}
        }
      ]
    }
  ]
}