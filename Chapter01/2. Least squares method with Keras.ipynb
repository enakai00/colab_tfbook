{
  "nbformat": 4,
  "nbformat_minor": 0,
  "metadata": {
    "colab": {
      "provenance": []
    },
    "kernelspec": {
      "name": "python3",
      "display_name": "Python 3"
    }
  },
  "cells": [
    {
      "cell_type": "markdown",
      "metadata": {
        "id": "CbJ273-zXvzb"
      },
      "source": [
        "# Least Squares Method with Keras"
      ]
    },
    {
      "cell_type": "markdown",
      "metadata": {
        "id": "wg-evE3LWM-O"
      },
      "source": [
        "Note: This notebook is desinged to run with Python3 and CPU (no GPU) runtime.\n",
        "\n",
        "![Python 3 and CPU runtime](https://raw.githubusercontent.com/enakai00/colab_tfbook/master/docs/imgs/runtime_cpu.png)"
      ]
    },
    {
      "cell_type": "markdown",
      "metadata": {
        "id": "s1JcgFhX_Era"
      },
      "source": [
        "This notebook uses TensorFlow 2.x."
      ]
    },
    {
      "cell_type": "code",
      "metadata": {
        "id": "C_YVPOrSDKCT",
        "outputId": "af623226-3141-4492-8d6d-da4f9b428ced",
        "colab": {
          "base_uri": "https://localhost:8080/",
          "height": 34
        }
      },
      "source": [
        "%tensorflow_version 2.x"
      ],
      "execution_count": null,
      "outputs": [
        {
          "output_type": "stream",
          "text": [
            "TensorFlow 2.x selected.\n"
          ],
          "name": "stdout"
        }
      ]
    },
    {
      "cell_type": "markdown",
      "metadata": {
        "id": "VJO3PPzqsq8d"
      },
      "source": [
        "####[LSM-01]\n",
        "Import modules."
      ]
    },
    {
      "cell_type": "code",
      "metadata": {
        "id": "gB5UUoAXIVmC"
      },
      "source": [
        "import numpy as np\n",
        "import matplotlib.pyplot as plt\n",
        "from pandas import DataFrame\n",
        "\n",
        "from tensorflow.keras import layers, models"
      ],
      "execution_count": 1,
      "outputs": []
    },
    {
      "cell_type": "markdown",
      "metadata": {
        "id": "yz2h7_8St1wi"
      },
      "source": [
        "####[LSM-02]\n",
        "Prepare the training dateset."
      ]
    },
    {
      "cell_type": "code",
      "metadata": {
        "id": "ASgzWK5AjWvn"
      },
      "source": [
        "train_t = np.array([5.2, 5.7, 8.6, 14.9, 18.2, 20.4,\n",
        "                    25.5, 26.4, 22.8, 17.5, 11.1, 6.6])\n",
        "train_t = train_t.reshape([12, 1])\n",
        "train_x = np.array([[mon**n for n in range(1, 5)]\n",
        "                    for mon in range(1, 13)])"
      ],
      "execution_count": 2,
      "outputs": []
    },
    {
      "cell_type": "markdown",
      "metadata": {
        "id": "SAVhouWduMh7"
      },
      "source": [
        "####[LSM-03]\n",
        "`train_x` contains the list $[x^1, x^2, x^3, x^4]$ for $x=1,...,12$."
      ]
    },
    {
      "cell_type": "code",
      "metadata": {
        "id": "Hp4EnlqvToYN",
        "outputId": "2d4f556a-870d-4b0c-8a8b-d14b3903d9cd",
        "colab": {
          "base_uri": "https://localhost:8080/"
        }
      },
      "source": [
        "train_x"
      ],
      "execution_count": 3,
      "outputs": [
        {
          "output_type": "execute_result",
          "data": {
            "text/plain": [
              "array([[    1,     1,     1,     1],\n",
              "       [    2,     4,     8,    16],\n",
              "       [    3,     9,    27,    81],\n",
              "       [    4,    16,    64,   256],\n",
              "       [    5,    25,   125,   625],\n",
              "       [    6,    36,   216,  1296],\n",
              "       [    7,    49,   343,  2401],\n",
              "       [    8,    64,   512,  4096],\n",
              "       [    9,    81,   729,  6561],\n",
              "       [   10,   100,  1000, 10000],\n",
              "       [   11,   121,  1331, 14641],\n",
              "       [   12,   144,  1728, 20736]])"
            ]
          },
          "metadata": {},
          "execution_count": 3
        }
      ]
    },
    {
      "cell_type": "markdown",
      "metadata": {
        "id": "qdQ0Tp2IvFy8"
      },
      "source": [
        "####[LSM-04]\n",
        "`train_t` contins the corresponding lables for $x=1,...,12$."
      ]
    },
    {
      "cell_type": "code",
      "metadata": {
        "id": "tpL_niBTXggS",
        "outputId": "a8116289-71a8-4a06-e18e-f8b93d31aa44",
        "colab": {
          "base_uri": "https://localhost:8080/"
        }
      },
      "source": [
        "train_t"
      ],
      "execution_count": 4,
      "outputs": [
        {
          "output_type": "execute_result",
          "data": {
            "text/plain": [
              "array([[ 5.2],\n",
              "       [ 5.7],\n",
              "       [ 8.6],\n",
              "       [14.9],\n",
              "       [18.2],\n",
              "       [20.4],\n",
              "       [25.5],\n",
              "       [26.4],\n",
              "       [22.8],\n",
              "       [17.5],\n",
              "       [11.1],\n",
              "       [ 6.6]])"
            ]
          },
          "metadata": {},
          "execution_count": 4
        }
      ]
    },
    {
      "cell_type": "markdown",
      "metadata": {
        "id": "fmnjQdqAvQRw"
      },
      "source": [
        "####[LSM-05]\n",
        "Define a model to predict labels using a polynomal function."
      ]
    },
    {
      "cell_type": "code",
      "metadata": {
        "id": "BakcuKxdQoSL",
        "outputId": "072fcc8d-08ae-46f6-bff7-0482c6e55b3d",
        "colab": {
          "base_uri": "https://localhost:8080/"
        }
      },
      "source": [
        "model = models.Sequential()\n",
        "model.add(layers.Dense(1, input_shape=(4,), name='polynomial'))\n",
        "model.summary()"
      ],
      "execution_count": 5,
      "outputs": [
        {
          "output_type": "stream",
          "name": "stdout",
          "text": [
            "Model: \"sequential\"\n",
            "_________________________________________________________________\n",
            " Layer (type)                Output Shape              Param #   \n",
            "=================================================================\n",
            " polynomial (Dense)          (None, 1)                 5         \n",
            "                                                                 \n",
            "=================================================================\n",
            "Total params: 5\n",
            "Trainable params: 5\n",
            "Non-trainable params: 0\n",
            "_________________________________________________________________\n"
          ]
        }
      ]
    },
    {
      "cell_type": "markdown",
      "metadata": {
        "id": "fBltXsSRvZn0"
      },
      "source": [
        "####[LSM-06]\n",
        "Compile the model using the Adam optimizer, and MSE (Mean Square Error) as a loss function."
      ]
    },
    {
      "cell_type": "code",
      "metadata": {
        "id": "LlQCTsKKXkr5"
      },
      "source": [
        "model.compile(optimizer='adam', loss='mse')"
      ],
      "execution_count": 6,
      "outputs": []
    },
    {
      "cell_type": "markdown",
      "metadata": {
        "id": "PjbE4TVBvqCh"
      },
      "source": [
        "####[LSM-07]\n",
        "Apply the optimization for 10 epochs."
      ]
    },
    {
      "cell_type": "code",
      "metadata": {
        "id": "qpARZzJsAnNA",
        "outputId": "0be1c3b9-e584-458c-b5ed-e0926c5ddc2a",
        "colab": {
          "base_uri": "https://localhost:8080/"
        }
      },
      "source": [
        "history = model.fit(train_x, train_t, batch_size=12, epochs=10)"
      ],
      "execution_count": 7,
      "outputs": [
        {
          "output_type": "stream",
          "name": "stdout",
          "text": [
            "Epoch 1/10\n",
            "1/1 [==============================] - 1s 504ms/step - loss: 17729378.0000\n",
            "Epoch 2/10\n",
            "1/1 [==============================] - 0s 15ms/step - loss: 17653290.0000\n",
            "Epoch 3/10\n",
            "1/1 [==============================] - 0s 12ms/step - loss: 17577368.0000\n",
            "Epoch 4/10\n",
            "1/1 [==============================] - 0s 13ms/step - loss: 17501616.0000\n",
            "Epoch 5/10\n",
            "1/1 [==============================] - 0s 14ms/step - loss: 17426038.0000\n",
            "Epoch 6/10\n",
            "1/1 [==============================] - 0s 15ms/step - loss: 17350634.0000\n",
            "Epoch 7/10\n",
            "1/1 [==============================] - 0s 20ms/step - loss: 17275412.0000\n",
            "Epoch 8/10\n",
            "1/1 [==============================] - 0s 15ms/step - loss: 17200370.0000\n",
            "Epoch 9/10\n",
            "1/1 [==============================] - 0s 14ms/step - loss: 17125514.0000\n",
            "Epoch 10/10\n",
            "1/1 [==============================] - 0s 12ms/step - loss: 17050846.0000\n"
          ]
        }
      ]
    },
    {
      "cell_type": "markdown",
      "metadata": {
        "id": "6ZJDVflWv6bm"
      },
      "source": [
        "####[LSM-08]\n",
        "Apply the optimization for additional 100,000 epochs."
      ]
    },
    {
      "cell_type": "code",
      "metadata": {
        "id": "R6aG8FEZSLdr"
      },
      "source": [
        "history = model.fit(train_x, train_t,\n",
        "                    batch_size=12, epochs=100000, verbose=0)"
      ],
      "execution_count": 8,
      "outputs": []
    },
    {
      "cell_type": "markdown",
      "metadata": {
        "id": "BFIxYITmwBXA"
      },
      "source": [
        "####[LSM-09]\n",
        "Plot charts to see how the loss has changed."
      ]
    },
    {
      "cell_type": "code",
      "metadata": {
        "id": "lHUrBkTt_BV_",
        "outputId": "4a7a266a-c243-4175-e721-dcd5f5b8623f",
        "colab": {
          "base_uri": "https://localhost:8080/",
          "height": 881
        }
      },
      "source": [
        "DataFrame({'loss': history.history['loss']}).plot(xlim=(0, 2000))\n",
        "DataFrame({'loss': history.history['loss']}).plot(ylim=(0, 10))"
      ],
      "execution_count": 9,
      "outputs": [
        {
          "output_type": "execute_result",
          "data": {
            "text/plain": [
              "<Axes: >"
            ]
          },
          "metadata": {},
          "execution_count": 9
        },
        {
          "output_type": "display_data",
          "data": {
            "text/plain": [
              "<Figure size 640x480 with 1 Axes>"
            ],
            "image/png": "[encoded data removed]"
          },
          "metadata": {}
        },
        {
          "output_type": "display_data",
          "data": {
            "text/plain": [
              "<Figure size 640x480 with 1 Axes>"
            ],
            "image/png": "[encoded data removed]"
          },
          "metadata": {}
        }
      ]
    },
    {
      "cell_type": "markdown",
      "metadata": {
        "id": "DrFqiUwcwSS4"
      },
      "source": [
        "####[LSM-10]\n",
        "Show weights after the training."
      ]
    },
    {
      "cell_type": "code",
      "metadata": {
        "id": "ffVp0em2Sn4U",
        "outputId": "af67cf1f-728a-40c7-bf4d-5d221e2bd489",
        "colab": {
          "base_uri": "https://localhost:8080/"
        }
      },
      "source": [
        "model.get_weights()"
      ],
      "execution_count": 10,
      "outputs": [
        {
          "output_type": "execute_result",
          "data": {
            "text/plain": [
              "[array([[-0.2538848 ],\n",
              "        [ 1.3899704 ],\n",
              "        [-0.15737812],\n",
              "        [ 0.0037354 ]], dtype=float32),\n",
              " array([2.4893692], dtype=float32)]"
            ]
          },
          "metadata": {},
          "execution_count": 10
        }
      ]
    },
    {
      "cell_type": "markdown",
      "metadata": {
        "id": "9ewLkGc-waB4"
      },
      "source": [
        "####[LSM-11]\n",
        "Define a function to predict values using the final weights."
      ]
    },
    {
      "cell_type": "code",
      "metadata": {
        "id": "587A6vekhVdw"
      },
      "source": [
        "w, b = model.get_weights()\n",
        "def predict(x):\n",
        "    pred = b[0] + sum([w[n][0] * x**(n+1) for n in range(0, 4)])\n",
        "    return pred"
      ],
      "execution_count": 11,
      "outputs": []
    },
    {
      "cell_type": "markdown",
      "metadata": {
        "id": "8vbl6mtdwi_z"
      },
      "source": [
        "####[LSM-12]\n",
        "Plot a chart for predictions."
      ]
    },
    {
      "cell_type": "code",
      "metadata": {
        "id": "EQCm_ZqJzV7T",
        "outputId": "3906b90b-cea3-4f8e-8fc3-157a69447cb6",
        "colab": {
          "base_uri": "https://localhost:8080/",
          "height": 430
        }
      },
      "source": [
        "fig = plt.figure()\n",
        "subplot = fig.add_subplot(1, 1, 1)\n",
        "subplot.set_xlim(0.5, 12.5)\n",
        "subplot.scatter(range(1, 13), train_t)\n",
        "xs = np.linspace(1, 12, 100)\n",
        "ys = predict(xs)\n",
        "_ = subplot.plot(xs, ys)"
      ],
      "execution_count": 12,
      "outputs": [
        {
          "output_type": "display_data",
          "data": {
            "text/plain": [
              "<Figure size 640x480 with 1 Axes>"
            ],
            "image/png": "[encoded data removed]"
          },
          "metadata": {}
        }
      ]
    }
  ]
}