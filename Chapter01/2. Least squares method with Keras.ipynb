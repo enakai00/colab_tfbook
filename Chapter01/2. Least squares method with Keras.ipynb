{
  "nbformat": 4,
  "nbformat_minor": 0,
  "metadata": {
    "colab": {
      "provenance": []
    },
    "kernelspec": {
      "name": "python3",
      "display_name": "Python 3"
    }
  },
  "cells": [
    {
      "cell_type": "markdown",
      "metadata": {
        "id": "CbJ273-zXvzb"
      },
      "source": [
        "# Least Squares Method with Keras"
      ]
    },
    {
      "cell_type": "markdown",
      "metadata": {
        "id": "wg-evE3LWM-O"
      },
      "source": [
        "Note: This notebook is desinged to run with CPU (no GPU) runtime."
      ]
    },
    {
      "cell_type": "markdown",
      "metadata": {
        "id": "VJO3PPzqsq8d"
      },
      "source": [
        "####[LSM-01]\n",
        "Import modules."
      ]
    },
    {
      "cell_type": "code",
      "metadata": {
        "id": "gB5UUoAXIVmC"
      },
      "source": [
        "import os\n",
        "import numpy as np\n",
        "import matplotlib.pyplot as plt\n",
        "from pandas import DataFrame\n",
        "os.environ['TF_USE_LEGACY_KERAS'] = '1'\n",
        "\n",
        "from tensorflow.keras import layers, models"
      ],
      "execution_count": 1,
      "outputs": []
    },
    {
      "cell_type": "markdown",
      "metadata": {
        "id": "yz2h7_8St1wi"
      },
      "source": [
        "####[LSM-02]\n",
        "Prepare the training dateset."
      ]
    },
    {
      "cell_type": "code",
      "metadata": {
        "id": "ASgzWK5AjWvn"
      },
      "source": [
        "train_t = np.array([5.2, 5.7, 8.6, 14.9, 18.2, 20.4,\n",
        "                    25.5, 26.4, 22.8, 17.5, 11.1, 6.6])\n",
        "train_t = train_t.reshape([12, 1])\n",
        "train_x = np.array([[mon**n for n in range(1, 5)]\n",
        "                    for mon in range(1, 13)])"
      ],
      "execution_count": 2,
      "outputs": []
    },
    {
      "cell_type": "markdown",
      "metadata": {
        "id": "SAVhouWduMh7"
      },
      "source": [
        "####[LSM-03]\n",
        "`train_x` contains the list $[x^1, x^2, x^3, x^4]$ for $x=1,...,12$."
      ]
    },
    {
      "cell_type": "code",
      "metadata": {
        "id": "Hp4EnlqvToYN",
        "outputId": "d9189d1d-9657-4d85-c16d-f6a155db98b0",
        "colab": {
          "base_uri": "https://localhost:8080/"
        }
      },
      "source": [
        "train_x"
      ],
      "execution_count": 3,
      "outputs": [
        {
          "output_type": "execute_result",
          "data": {
            "text/plain": [
              "array([[    1,     1,     1,     1],\n",
              "       [    2,     4,     8,    16],\n",
              "       [    3,     9,    27,    81],\n",
              "       [    4,    16,    64,   256],\n",
              "       [    5,    25,   125,   625],\n",
              "       [    6,    36,   216,  1296],\n",
              "       [    7,    49,   343,  2401],\n",
              "       [    8,    64,   512,  4096],\n",
              "       [    9,    81,   729,  6561],\n",
              "       [   10,   100,  1000, 10000],\n",
              "       [   11,   121,  1331, 14641],\n",
              "       [   12,   144,  1728, 20736]])"
            ]
          },
          "metadata": {},
          "execution_count": 3
        }
      ]
    },
    {
      "cell_type": "markdown",
      "metadata": {
        "id": "qdQ0Tp2IvFy8"
      },
      "source": [
        "####[LSM-04]\n",
        "`train_t` contins the corresponding lables for $x=1,...,12$."
      ]
    },
    {
      "cell_type": "code",
      "metadata": {
        "id": "tpL_niBTXggS",
        "outputId": "3f8641f9-d71a-40d0-a65b-aea85bbb11f3",
        "colab": {
          "base_uri": "https://localhost:8080/"
        }
      },
      "source": [
        "train_t"
      ],
      "execution_count": 4,
      "outputs": [
        {
          "output_type": "execute_result",
          "data": {
            "text/plain": [
              "array([[ 5.2],\n",
              "       [ 5.7],\n",
              "       [ 8.6],\n",
              "       [14.9],\n",
              "       [18.2],\n",
              "       [20.4],\n",
              "       [25.5],\n",
              "       [26.4],\n",
              "       [22.8],\n",
              "       [17.5],\n",
              "       [11.1],\n",
              "       [ 6.6]])"
            ]
          },
          "metadata": {},
          "execution_count": 4
        }
      ]
    },
    {
      "cell_type": "markdown",
      "metadata": {
        "id": "fmnjQdqAvQRw"
      },
      "source": [
        "####[LSM-05]\n",
        "Define a model to predict labels using a polynomal function."
      ]
    },
    {
      "cell_type": "code",
      "metadata": {
        "id": "BakcuKxdQoSL",
        "outputId": "fccb6635-e156-465b-ff71-3ad836dc4bd1",
        "colab": {
          "base_uri": "https://localhost:8080/"
        }
      },
      "source": [
        "model = models.Sequential()\n",
        "model.add(layers.Input(shape=(4,), name='input'))\n",
        "model.add(layers.Dense(1, name='polynomial'))\n",
        "\n",
        "model.summary()"
      ],
      "execution_count": 5,
      "outputs": [
        {
          "output_type": "stream",
          "name": "stdout",
          "text": [
            "Model: \"sequential\"\n",
            "_________________________________________________________________\n",
            " Layer (type)                Output Shape              Param #   \n",
            "=================================================================\n",
            " polynomial (Dense)          (None, 1)                 5         \n",
            "                                                                 \n",
            "=================================================================\n",
            "Total params: 5 (20.00 Byte)\n",
            "Trainable params: 5 (20.00 Byte)\n",
            "Non-trainable params: 0 (0.00 Byte)\n",
            "_________________________________________________________________\n"
          ]
        }
      ]
    },
    {
      "cell_type": "markdown",
      "metadata": {
        "id": "fBltXsSRvZn0"
      },
      "source": [
        "####[LSM-06]\n",
        "Compile the model using the Adam optimizer, and MSE (Mean Square Error) as a loss function."
      ]
    },
    {
      "cell_type": "code",
      "metadata": {
        "id": "LlQCTsKKXkr5"
      },
      "source": [
        "model.compile(optimizer='adam', loss='mse')"
      ],
      "execution_count": 6,
      "outputs": []
    },
    {
      "cell_type": "markdown",
      "metadata": {
        "id": "PjbE4TVBvqCh"
      },
      "source": [
        "####[LSM-07]\n",
        "Apply the optimization for 10 epochs."
      ]
    },
    {
      "cell_type": "code",
      "metadata": {
        "id": "qpARZzJsAnNA",
        "outputId": "fe95064a-b28c-4775-b6cf-4539d5be4637",
        "colab": {
          "base_uri": "https://localhost:8080/"
        }
      },
      "source": [
        "history = model.fit(train_x, train_t, batch_size=12, epochs=10)"
      ],
      "execution_count": 7,
      "outputs": [
        {
          "output_type": "stream",
          "name": "stdout",
          "text": [
            "Epoch 1/10\n",
            "1/1 [==============================] - 1s 878ms/step - loss: 2870556.2500\n",
            "Epoch 2/10\n",
            "1/1 [==============================] - 0s 26ms/step - loss: 2839987.2500\n",
            "Epoch 3/10\n",
            "1/1 [==============================] - 0s 13ms/step - loss: 2809587.2500\n",
            "Epoch 4/10\n",
            "1/1 [==============================] - 0s 20ms/step - loss: 2779356.7500\n",
            "Epoch 5/10\n",
            "1/1 [==============================] - 0s 10ms/step - loss: 2749300.5000\n",
            "Epoch 6/10\n",
            "1/1 [==============================] - 0s 13ms/step - loss: 2719420.7500\n",
            "Epoch 7/10\n",
            "1/1 [==============================] - 0s 17ms/step - loss: 2689720.0000\n",
            "Epoch 8/10\n",
            "1/1 [==============================] - 0s 11ms/step - loss: 2660199.7500\n",
            "Epoch 9/10\n",
            "1/1 [==============================] - 0s 17ms/step - loss: 2630864.5000\n",
            "Epoch 10/10\n",
            "1/1 [==============================] - 0s 14ms/step - loss: 2601715.5000\n"
          ]
        }
      ]
    },
    {
      "cell_type": "markdown",
      "metadata": {
        "id": "6ZJDVflWv6bm"
      },
      "source": [
        "####[LSM-08]\n",
        "Apply the optimization for additional 100,000 epochs."
      ]
    },
    {
      "cell_type": "code",
      "metadata": {
        "id": "R6aG8FEZSLdr",
        "colab": {
          "base_uri": "https://localhost:8080/"
        },
        "outputId": "85c20631-fc31-46a7-e73f-b7a77b4b67fd"
      },
      "source": [
        "%%time\n",
        "history = model.fit(train_x, train_t,\n",
        "                    batch_size=12, epochs=100000, verbose=0)"
      ],
      "execution_count": 8,
      "outputs": [
        {
          "output_type": "stream",
          "name": "stdout",
          "text": [
            "CPU times: user 5min 22s, sys: 12.9 s, total: 5min 35s\n",
            "Wall time: 4min 56s\n"
          ]
        }
      ]
    },
    {
      "cell_type": "markdown",
      "metadata": {
        "id": "BFIxYITmwBXA"
      },
      "source": [
        "####[LSM-09]\n",
        "Plot charts to see how the loss has changed."
      ]
    },
    {
      "cell_type": "code",
      "metadata": {
        "id": "lHUrBkTt_BV_",
        "colab": {
          "base_uri": "https://localhost:8080/",
          "height": 881
        },
        "outputId": "026f71b4-b1f4-4991-da71-587372fe70f1"
      },
      "source": [
        "DataFrame({'loss': history.history['loss']}).plot(xlim=(0, 2000))\n",
        "DataFrame({'loss': history.history['loss']}).plot(ylim=(0, 10))"
      ],
      "execution_count": 9,
      "outputs": [
        {
          "output_type": "execute_result",
          "data": {
            "text/plain": [
              "<Axes: >"
            ]
          },
          "metadata": {},
          "execution_count": 9
        },
        {
          "output_type": "display_data",
          "data": {
            "text/plain": [
              "<Figure size 640x480 with 1 Axes>"
            ],
            "image/png": "[encoded data removed]"
          },
          "metadata": {}
        },
        {
          "output_type": "display_data",
          "data": {
            "text/plain": [
              "<Figure size 640x480 with 1 Axes>"
            ],
            "image/png": "[encoded data removed]"
          },
          "metadata": {}
        }
      ]
    },
    {
      "cell_type": "markdown",
      "metadata": {
        "id": "DrFqiUwcwSS4"
      },
      "source": [
        "####[LSM-10]\n",
        "Show weights after the training."
      ]
    },
    {
      "cell_type": "code",
      "metadata": {
        "id": "ffVp0em2Sn4U",
        "colab": {
          "base_uri": "https://localhost:8080/"
        },
        "outputId": "f26d465d-c6af-4065-b77b-ce26895088ba"
      },
      "source": [
        "model.get_weights()"
      ],
      "execution_count": 10,
      "outputs": [
        {
          "output_type": "execute_result",
          "data": {
            "text/plain": [
              "[array([[-2.153166  ],\n",
              "        [ 1.9517825 ],\n",
              "        [-0.21970703],\n",
              "        [ 0.00604603]], dtype=float32),\n",
              " array([4.302752], dtype=float32)]"
            ]
          },
          "metadata": {},
          "execution_count": 10
        }
      ]
    },
    {
      "cell_type": "markdown",
      "metadata": {
        "id": "9ewLkGc-waB4"
      },
      "source": [
        "####[LSM-11]\n",
        "Define a function to predict values using the final weights."
      ]
    },
    {
      "cell_type": "code",
      "metadata": {
        "id": "587A6vekhVdw"
      },
      "source": [
        "w, b = model.get_weights()\n",
        "def predict(x):\n",
        "    pred = b[0] + sum([w[n][0] * x**(n+1) for n in range(0, 4)])\n",
        "    return pred"
      ],
      "execution_count": 11,
      "outputs": []
    },
    {
      "cell_type": "markdown",
      "metadata": {
        "id": "8vbl6mtdwi_z"
      },
      "source": [
        "####[LSM-12]\n",
        "Plot a chart for predictions."
      ]
    },
    {
      "cell_type": "code",
      "metadata": {
        "id": "EQCm_ZqJzV7T",
        "colab": {
          "base_uri": "https://localhost:8080/",
          "height": 430
        },
        "outputId": "5c2fe14f-9eff-442a-de4a-9e231ba812e9"
      },
      "source": [
        "fig = plt.figure()\n",
        "subplot = fig.add_subplot(1, 1, 1)\n",
        "subplot.set_xlim(0.5, 12.5)\n",
        "subplot.scatter(range(1, 13), train_t)\n",
        "xs = np.linspace(1, 12, 100)\n",
        "ys = predict(xs)\n",
        "_ = subplot.plot(xs, ys)"
      ],
      "execution_count": 12,
      "outputs": [
        {
          "output_type": "display_data",
          "data": {
            "text/plain": [
              "<Figure size 640x480 with 1 Axes>"
            ],
            "image/png": "[encoded data removed]"
          },
          "metadata": {}
        }
      ]
    }
  ]
}