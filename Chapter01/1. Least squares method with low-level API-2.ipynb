{
  "nbformat": 4,
  "nbformat_minor": 0,
  "metadata": {
    "colab": {
      "provenance": []
    },
    "kernelspec": {
      "name": "python3",
      "display_name": "Python 3"
    }
  },
  "cells": [
    {
      "cell_type": "markdown",
      "source": [
        "## Important note\n",
        "\n",
        "The original [Notebook](https://github.com/enakai00/colab_tfbook/blob/master/Chapter01/1.%20Least%20squares%20method%20with%20low-level%20API.ipynb) was implemented with TensorFlow v1. However, since TensorFlow v1 is no longer available on Google Colaboratory, you cannot run that Notebook now.\n",
        "\n",
        "This Notebook provides an alternative one that works with TensorFlow v2."
      ],
      "metadata": {
        "id": "C7ADj1ZQ-A-J"
      }
    },
    {
      "cell_type": "markdown",
      "metadata": {
        "id": "CbJ273-zXvzb"
      },
      "source": [
        "# Least Squares Method with Low-level API"
      ]
    },
    {
      "cell_type": "markdown",
      "metadata": {
        "id": "wg-evE3LWM-O"
      },
      "source": [
        "Note: This notebook is desinged to run with Python3 and CPU (no GPU) runtime.\n",
        "\n",
        "![Python 3 and CPU runtime](https://raw.githubusercontent.com/enakai00/colab_tfbook/master/docs/imgs/runtime_cpu.png)"
      ]
    },
    {
      "cell_type": "markdown",
      "metadata": {
        "id": "VJO3PPzqsq8d"
      },
      "source": [
        "####[LSL-01]\n",
        "Import modules."
      ]
    },
    {
      "cell_type": "code",
      "metadata": {
        "id": "gB5UUoAXIVmC"
      },
      "source": [
        "import numpy as np\n",
        "import matplotlib.pyplot as plt\n",
        "import tensorflow as tf"
      ],
      "execution_count": null,
      "outputs": []
    },
    {
      "cell_type": "markdown",
      "metadata": {
        "id": "yz2h7_8St1wi"
      },
      "source": [
        "####[LSL-02]\n",
        "Prepare the training dateset."
      ]
    },
    {
      "cell_type": "code",
      "metadata": {
        "id": "ASgzWK5AjWvn"
      },
      "source": [
        "train_t = np.array([5.2, 5.7, 8.6, 14.9, 18.2, 20.4,\n",
        "                    25.5, 26.4, 22.8, 17.5, 11.1, 6.6])\n",
        "train_t = train_t.reshape([12, 1])\n",
        "train_x = np.array([[mon**n for n in range(0, 5)]\n",
        "                    for mon in range(1, 13)])"
      ],
      "execution_count": null,
      "outputs": []
    },
    {
      "cell_type": "markdown",
      "metadata": {
        "id": "SAVhouWduMh7"
      },
      "source": [
        "####[LSL-03]\n",
        "`train_x` contains the list $[x^0, x^1, x^2, x^3, x^4]$ for $x=1,...,12$."
      ]
    },
    {
      "cell_type": "code",
      "metadata": {
        "id": "Hp4EnlqvToYN",
        "outputId": "8ce632d8-c7d1-43b8-ef37-ec24e3462869",
        "colab": {
          "base_uri": "https://localhost:8080/"
        }
      },
      "source": [
        "train_x"
      ],
      "execution_count": null,
      "outputs": [
        {
          "output_type": "execute_result",
          "data": {
            "text/plain": [
              "array([[    1,     1,     1,     1,     1],\n",
              "       [    1,     2,     4,     8,    16],\n",
              "       [    1,     3,     9,    27,    81],\n",
              "       [    1,     4,    16,    64,   256],\n",
              "       [    1,     5,    25,   125,   625],\n",
              "       [    1,     6,    36,   216,  1296],\n",
              "       [    1,     7,    49,   343,  2401],\n",
              "       [    1,     8,    64,   512,  4096],\n",
              "       [    1,     9,    81,   729,  6561],\n",
              "       [    1,    10,   100,  1000, 10000],\n",
              "       [    1,    11,   121,  1331, 14641],\n",
              "       [    1,    12,   144,  1728, 20736]])"
            ]
          },
          "metadata": {},
          "execution_count": 3
        }
      ]
    },
    {
      "cell_type": "markdown",
      "metadata": {
        "id": "qdQ0Tp2IvFy8"
      },
      "source": [
        "####[LSL-04]\n",
        "`train_t` contins the corresponding lables for $x=1,...,12$."
      ]
    },
    {
      "cell_type": "code",
      "metadata": {
        "id": "tpL_niBTXggS",
        "outputId": "e877fb25-45d0-4be2-84d5-4f05c497261c",
        "colab": {
          "base_uri": "https://localhost:8080/"
        }
      },
      "source": [
        "train_t"
      ],
      "execution_count": null,
      "outputs": [
        {
          "output_type": "execute_result",
          "data": {
            "text/plain": [
              "array([[ 5.2],\n",
              "       [ 5.7],\n",
              "       [ 8.6],\n",
              "       [14.9],\n",
              "       [18.2],\n",
              "       [20.4],\n",
              "       [25.5],\n",
              "       [26.4],\n",
              "       [22.8],\n",
              "       [17.5],\n",
              "       [11.1],\n",
              "       [ 6.6]])"
            ]
          },
          "metadata": {},
          "execution_count": 4
        }
      ]
    },
    {
      "cell_type": "markdown",
      "metadata": {
        "id": "fmnjQdqAvQRw"
      },
      "source": [
        "####[LSL-05]\n",
        "Definie a placeholder to hold the training dataset."
      ]
    },
    {
      "cell_type": "code",
      "metadata": {
        "id": "BakcuKxdQoSL"
      },
      "source": [
        "# We don't need a placeholder with TensorFlow 2"
      ],
      "execution_count": null,
      "outputs": []
    },
    {
      "cell_type": "markdown",
      "metadata": {
        "id": "efpWHnG3ep6b"
      },
      "source": [
        "####[LSL-06]\n",
        "Definie variables for weights."
      ]
    },
    {
      "cell_type": "code",
      "metadata": {
        "id": "kfxoIs4PZbxc"
      },
      "source": [
        "w = tf.Variable(tf.zeros([5, 1]))"
      ],
      "execution_count": null,
      "outputs": []
    },
    {
      "cell_type": "markdown",
      "metadata": {
        "id": "CokPQLJZezOa"
      },
      "source": [
        "####[LSL-07]\n",
        "Definie a ploynomial to predict label values."
      ]
    },
    {
      "cell_type": "code",
      "metadata": {
        "id": "NrBwyvASZiCs"
      },
      "source": [
        "y = lambda x, w: tf.matmul(x, w)"
      ],
      "execution_count": null,
      "outputs": []
    },
    {
      "cell_type": "markdown",
      "metadata": {
        "id": "RJnDglfne6OM"
      },
      "source": [
        "####[LSL-08]\n",
        "Definie a placeholder to hold the label values."
      ]
    },
    {
      "cell_type": "code",
      "metadata": {
        "id": "-YCXdrhUZniE"
      },
      "source": [
        "# We don't need a placeholder with TensorFlow 2"
      ],
      "execution_count": null,
      "outputs": []
    },
    {
      "cell_type": "markdown",
      "metadata": {
        "id": "fBltXsSRvZn0"
      },
      "source": [
        "####[LSL-09]\n",
        "Definine a loss function as Square error."
      ]
    },
    {
      "cell_type": "code",
      "metadata": {
        "id": "NQcsk7oMZpni"
      },
      "source": [
        "loss = lambda x, w, t: tf.reduce_sum(tf.square(y(x, w) - t))"
      ],
      "execution_count": null,
      "outputs": []
    },
    {
      "cell_type": "markdown",
      "metadata": {
        "id": "YDNieEQlfYlt"
      },
      "source": [
        "####[LSL-10]\n",
        "Define an optimization step  using the Adam optimizer"
      ]
    },
    {
      "cell_type": "code",
      "metadata": {
        "id": "V0uhylUwZrGz"
      },
      "source": [
        "optimizer = tf.keras.optimizers.Adam()\n",
        "\n",
        "@tf.function\n",
        "def train_step(x, w, t):\n",
        "    with tf.GradientTape() as tape:\n",
        "        loss_val = loss(x, w, t)\n",
        "    grads = tape.gradient(loss_val, [w])\n",
        "    optimizer.apply_gradients(zip(grads, [w]))\n",
        "\n",
        "    return loss_val"
      ],
      "execution_count": null,
      "outputs": []
    },
    {
      "cell_type": "markdown",
      "metadata": {
        "id": "j5tuF6XFfmL7"
      },
      "source": [
        "####[LSL-11]\n",
        "Create a session and initialize variables."
      ]
    },
    {
      "cell_type": "code",
      "metadata": {
        "id": "8H-skyBNZsmF"
      },
      "source": [
        "# We don't need a session with TensorFlow 2"
      ],
      "execution_count": null,
      "outputs": []
    },
    {
      "cell_type": "markdown",
      "metadata": {
        "id": "PjbE4TVBvqCh"
      },
      "source": [
        "####[LSL-12]\n",
        "Apply the optimization step for 100,000 epochs."
      ]
    },
    {
      "cell_type": "code",
      "metadata": {
        "id": "e5_g4y_WZ0Di",
        "colab": {
          "base_uri": "https://localhost:8080/"
        },
        "outputId": "4d385866-66c6-48e7-e412-78a3f15ec766"
      },
      "source": [
        "train_x = train_x.astype(dtype='float32')\n",
        "train_t = train_t.astype(dtype='float32')\n",
        "\n",
        "i = 0\n",
        "for _ in range(100000):\n",
        "    i += 1\n",
        "    loss_val = train_step(train_x, w, train_t)\n",
        "    if i % 10000 == 0:\n",
        "        print ('Step: {}, Loss: {}'.format(i, loss_val))"
      ],
      "execution_count": null,
      "outputs": [
        {
          "output_type": "stream",
          "name": "stdout",
          "text": [
            "Step: 10000, Loss: 31.0147705078125\n",
            "Step: 20000, Loss: 29.293682098388672\n",
            "Step: 30000, Loss: 28.025081634521484\n",
            "Step: 40000, Loss: 26.85442543029785\n",
            "Step: 50000, Loss: 31.778268814086914\n",
            "Step: 60000, Loss: 24.765493392944336\n",
            "Step: 70000, Loss: 23.83963394165039\n",
            "Step: 80000, Loss: 22.977985382080078\n",
            "Step: 90000, Loss: 22.173564910888672\n",
            "Step: 100000, Loss: 21.43476104736328\n"
          ]
        }
      ]
    },
    {
      "cell_type": "markdown",
      "metadata": {
        "id": "DrFqiUwcwSS4"
      },
      "source": [
        "####[LSL-13]\n",
        "Show weights after the training."
      ]
    },
    {
      "cell_type": "code",
      "metadata": {
        "id": "_vxbUQ7qaOAG",
        "colab": {
          "base_uri": "https://localhost:8080/"
        },
        "outputId": "70858235-4ca8-404d-cf60-d8709588951d"
      },
      "source": [
        "ws = w.numpy()\n",
        "ws"
      ],
      "execution_count": null,
      "outputs": [
        {
          "output_type": "execute_result",
          "data": {
            "text/plain": [
              "array([[ 3.765443  ],\n",
              "       [-1.5903949 ],\n",
              "       [ 1.7853138 ],\n",
              "       [-0.20123667],\n",
              "       [ 0.00536292]], dtype=float32)"
            ]
          },
          "metadata": {},
          "execution_count": 13
        }
      ]
    },
    {
      "cell_type": "markdown",
      "metadata": {
        "id": "9ewLkGc-waB4"
      },
      "source": [
        "####[LSL-14]\n",
        "Define a function to predict values using the final weights."
      ]
    },
    {
      "cell_type": "code",
      "source": [
        "def predict(x):\n",
        "    pred = sum([ws[n][0] * x**n for n in range(0, 5)])\n",
        "    return pred"
      ],
      "metadata": {
        "id": "chACMiuh8DHQ"
      },
      "execution_count": null,
      "outputs": []
    },
    {
      "cell_type": "markdown",
      "metadata": {
        "id": "8vbl6mtdwi_z"
      },
      "source": [
        "####[LSL-15]\n",
        "Plot a chart for predictions."
      ]
    },
    {
      "cell_type": "code",
      "metadata": {
        "id": "EQCm_ZqJzV7T",
        "colab": {
          "base_uri": "https://localhost:8080/",
          "height": 430
        },
        "outputId": "06ede09c-38a2-4a7c-f89a-5bec708cd47a"
      },
      "source": [
        "fig = plt.figure()\n",
        "subplot = fig.add_subplot(1, 1, 1)\n",
        "subplot.set_xlim(0.5, 12.5)\n",
        "subplot.set_xticks(range(1, 13))\n",
        "subplot.scatter(range(1, 13), train_t)\n",
        "xs = np.linspace(1, 12, 100)\n",
        "ys = predict(xs)\n",
        "_ = subplot.plot(xs, ys)"
      ],
      "execution_count": null,
      "outputs": [
        {
          "output_type": "display_data",
          "data": {
            "text/plain": [
              "<Figure size 640x480 with 1 Axes>"
            ],
            "image/png": "[encoded data removed]"
          },
          "metadata": {}
        }
      ]
    }
  ]
}