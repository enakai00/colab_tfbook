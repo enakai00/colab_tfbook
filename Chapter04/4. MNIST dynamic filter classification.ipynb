{
  "nbformat": 4,
  "nbformat_minor": 0,
  "metadata": {
    "colab": {
      "provenance": []
    },
    "kernelspec": {
      "name": "python3",
      "display_name": "Python 3"
    },
    "accelerator": "GPU"
  },
  "cells": [
    {
      "cell_type": "markdown",
      "metadata": {
        "id": "oBDR3CvxewJw"
      },
      "source": [
        "# MNIST Dynamic Filter Classification"
      ]
    },
    {
      "cell_type": "markdown",
      "metadata": {
        "id": "3K8paN7eevHX"
      },
      "source": [
        "Note: This notebook is desinged to run with Python3 and GPU runtime.\n",
        "\n",
        "![Python 3 and CPU runtime](https://raw.githubusercontent.com/enakai00/colab_tfbook/master/docs/imgs/runtime_gpu.png)"
      ]
    },
    {
      "cell_type": "markdown",
      "metadata": {
        "id": "-xkr13nCB0Il"
      },
      "source": [
        "This notebook uses TensorFlow2.x."
      ]
    },
    {
      "cell_type": "code",
      "metadata": {
        "id": "kop8_9RihcJX",
        "outputId": "a9a79890-ff90-4c11-eab4-da2d875afb27",
        "colab": {
          "base_uri": "https://localhost:8080/"
        }
      },
      "source": [
        "%tensorflow_version 2.x"
      ],
      "execution_count": 1,
      "outputs": [
        {
          "output_type": "stream",
          "name": "stdout",
          "text": [
            "Colab only includes TensorFlow 2.x; %tensorflow_version has no effect.\n"
          ]
        }
      ]
    },
    {
      "cell_type": "markdown",
      "metadata": {
        "id": "VJO3PPzqsq8d"
      },
      "source": [
        "####[MDF-01]\n",
        "Import modules and set random seeds."
      ]
    },
    {
      "cell_type": "code",
      "metadata": {
        "id": "gB5UUoAXIVmC"
      },
      "source": [
        "import os, random\n",
        "os.environ['PYTHONHASHSEED']=str(20230515)\n",
        "random.seed(20230515)\n",
        "\n",
        "import numpy as np\n",
        "from pandas import DataFrame\n",
        "\n",
        "import tensorflow as tf\n",
        "from tensorflow.keras import layers, models, initializers\n",
        "from tensorflow.keras.datasets import mnist\n",
        "\n",
        "np.random.seed(20190222)\n",
        "tf.random.set_seed(20190222)"
      ],
      "execution_count": 2,
      "outputs": []
    },
    {
      "cell_type": "markdown",
      "metadata": {
        "id": "yz2h7_8St1wi"
      },
      "source": [
        "####[MDF-02]\n",
        "Download the MNIST dataset and store into NumPy arrays."
      ]
    },
    {
      "cell_type": "code",
      "metadata": {
        "id": "ASgzWK5AjWvn",
        "colab": {
          "base_uri": "https://localhost:8080/"
        },
        "outputId": "4b9f6a92-dddf-48c5-b739-8ae2d2a89bd1"
      },
      "source": [
        "(train_images, train_labels), (test_images, test_labels) = mnist.load_data()\n",
        "train_images = train_images.reshape(\n",
        "                  (len(train_images), 784)).astype('float32') / 255\n",
        "test_images = test_images.reshape(\n",
        "                  (len(test_images), 784)).astype('float32') / 255\n",
        "train_labels = tf.keras.utils.to_categorical(train_labels, 10)\n",
        "test_labels = tf.keras.utils.to_categorical(test_labels, 10)"
      ],
      "execution_count": 3,
      "outputs": [
        {
          "output_type": "stream",
          "name": "stdout",
          "text": [
            "Downloading data from https://storage.googleapis.com/tensorflow/tf-keras-datasets/mnist.npz\n",
            "11490434/11490434 [==============================] - 0s 0us/step\n"
          ]
        }
      ]
    },
    {
      "cell_type": "markdown",
      "metadata": {
        "id": "qdQ0Tp2IvFy8"
      },
      "source": [
        "####[MDF-03]\n",
        "Define a CNN model with a single convolutional filter layer."
      ]
    },
    {
      "cell_type": "code",
      "metadata": {
        "id": "tpL_niBTXggS",
        "outputId": "5a19b6bf-dcb4-455e-e97d-c0408bfeb6bc",
        "colab": {
          "base_uri": "https://localhost:8080/"
        }
      },
      "source": [
        "model = models.Sequential()\n",
        "model.add(layers.Reshape((28, 28, 1), input_shape=(28*28,), name='reshape'))\n",
        "model.add(layers.Conv2D(16, (5, 5), padding='same',\n",
        "                        kernel_initializer=initializers.TruncatedNormal(),\n",
        "                        use_bias=True, activation='relu',\n",
        "                        name='conv_filter'))\n",
        "model.add(layers.MaxPooling2D((2, 2), name='max_pooling'))\n",
        "model.add(layers.Flatten(name='flatten'))\n",
        "model.add(layers.Dense(1024, activation='relu',\n",
        "                       kernel_initializer=initializers.TruncatedNormal(),\n",
        "                       name='hidden'))\n",
        "model.add(layers.Dense(10, activation='softmax', name='softmax'))\n",
        "\n",
        "model.summary()"
      ],
      "execution_count": 4,
      "outputs": [
        {
          "output_type": "stream",
          "name": "stdout",
          "text": [
            "Model: \"sequential\"\n",
            "_________________________________________________________________\n",
            " Layer (type)                Output Shape              Param #   \n",
            "=================================================================\n",
            " reshape (Reshape)           (None, 28, 28, 1)         0         \n",
            "                                                                 \n",
            " conv_filter (Conv2D)        (None, 28, 28, 16)        416       \n",
            "                                                                 \n",
            " max_pooling (MaxPooling2D)  (None, 14, 14, 16)        0         \n",
            "                                                                 \n",
            " flatten (Flatten)           (None, 3136)              0         \n",
            "                                                                 \n",
            " hidden (Dense)              (None, 1024)              3212288   \n",
            "                                                                 \n",
            " softmax (Dense)             (None, 10)                10250     \n",
            "                                                                 \n",
            "=================================================================\n",
            "Total params: 3,222,954\n",
            "Trainable params: 3,222,954\n",
            "Non-trainable params: 0\n",
            "_________________________________________________________________\n"
          ]
        }
      ]
    },
    {
      "cell_type": "markdown",
      "metadata": {
        "id": "fBltXsSRvZn0"
      },
      "source": [
        "####[MDF-04]\n",
        "Compile the model using the Adam optimizer, and Cross entroy as a loss function."
      ]
    },
    {
      "cell_type": "code",
      "metadata": {
        "id": "BakcuKxdQoSL"
      },
      "source": [
        "model.compile(optimizer='adam', \n",
        "              loss='categorical_crossentropy',\n",
        "              metrics=['acc'])"
      ],
      "execution_count": 5,
      "outputs": []
    },
    {
      "cell_type": "markdown",
      "metadata": {
        "id": "knfetV1MiKQ-"
      },
      "source": [
        "####[MDF-05]\n",
        "Train the model. It achieves around 99% accuracy."
      ]
    },
    {
      "cell_type": "code",
      "metadata": {
        "id": "LlQCTsKKXkr5",
        "outputId": "cad064ad-d856-4e6c-e0d8-03961ba5ee30",
        "colab": {
          "base_uri": "https://localhost:8080/"
        }
      },
      "source": [
        "history = model.fit(train_images, train_labels,\n",
        "                    validation_data=(test_images, test_labels),\n",
        "                    batch_size=128, epochs=10)"
      ],
      "execution_count": 6,
      "outputs": [
        {
          "output_type": "stream",
          "name": "stdout",
          "text": [
            "Epoch 1/10\n",
            "469/469 [==============================] - 15s 6ms/step - loss: 0.1752 - acc: 0.9481 - val_loss: 0.0590 - val_acc: 0.9814\n",
            "Epoch 2/10\n",
            "469/469 [==============================] - 2s 5ms/step - loss: 0.0516 - acc: 0.9840 - val_loss: 0.0472 - val_acc: 0.9843\n",
            "Epoch 3/10\n",
            "469/469 [==============================] - 2s 4ms/step - loss: 0.0326 - acc: 0.9894 - val_loss: 0.0435 - val_acc: 0.9851\n",
            "Epoch 4/10\n",
            "469/469 [==============================] - 2s 4ms/step - loss: 0.0218 - acc: 0.9929 - val_loss: 0.0352 - val_acc: 0.9878\n",
            "Epoch 5/10\n",
            "469/469 [==============================] - 2s 4ms/step - loss: 0.0151 - acc: 0.9953 - val_loss: 0.0363 - val_acc: 0.9885\n",
            "Epoch 6/10\n",
            "469/469 [==============================] - 2s 5ms/step - loss: 0.0108 - acc: 0.9966 - val_loss: 0.0383 - val_acc: 0.9883\n",
            "Epoch 7/10\n",
            "469/469 [==============================] - 3s 5ms/step - loss: 0.0091 - acc: 0.9969 - val_loss: 0.0350 - val_acc: 0.9904\n",
            "Epoch 8/10\n",
            "469/469 [==============================] - 2s 5ms/step - loss: 0.0071 - acc: 0.9977 - val_loss: 0.0416 - val_acc: 0.9893\n",
            "Epoch 9/10\n",
            "469/469 [==============================] - 2s 4ms/step - loss: 0.0068 - acc: 0.9978 - val_loss: 0.0436 - val_acc: 0.9875\n",
            "Epoch 10/10\n",
            "469/469 [==============================] - 2s 4ms/step - loss: 0.0056 - acc: 0.9984 - val_loss: 0.0392 - val_acc: 0.9889\n"
          ]
        }
      ]
    },
    {
      "cell_type": "markdown",
      "metadata": {
        "id": "TG5R1JCmtflv"
      },
      "source": [
        "####[MDF-06]\n",
        "Plot charts for the accuracy and loss values."
      ]
    },
    {
      "cell_type": "code",
      "metadata": {
        "id": "s8xZbQ1j1k9Z",
        "outputId": "5be67061-117a-45cd-a03c-74d32e0a0a1f",
        "colab": {
          "base_uri": "https://localhost:8080/",
          "height": 861
        }
      },
      "source": [
        "DataFrame({'acc': history.history['acc'], \n",
        "           'val_acc': history.history['val_acc']}).plot()\n",
        "DataFrame({'loss': history.history['loss'], \n",
        "           'val_loss': history.history['val_loss']}).plot()"
      ],
      "execution_count": 7,
      "outputs": [
        {
          "output_type": "execute_result",
          "data": {
            "text/plain": [
              "<Axes: >"
            ]
          },
          "metadata": {},
          "execution_count": 7
        },
        {
          "output_type": "display_data",
          "data": {
            "text/plain": [
              "<Figure size 640x480 with 1 Axes>"
            ],
            "image/png": "[encoded data removed]"
          },
          "metadata": {}
        },
        {
          "output_type": "display_data",
          "data": {
            "text/plain": [
              "<Figure size 640x480 with 1 Axes>"
            ],
            "image/png": "[encoded data removed]"
          },
          "metadata": {}
        }
      ]
    },
    {
      "cell_type": "markdown",
      "metadata": {
        "id": "nPjRGMgSiYzH"
      },
      "source": [
        "####[MDF-07]\n",
        "Mount your Google Drive on `/content/gdrive`."
      ]
    },
    {
      "cell_type": "code",
      "metadata": {
        "id": "KTDOKlWoe2Kz",
        "outputId": "39385d7e-97b3-4d63-f94a-f4fc988a0466",
        "colab": {
          "base_uri": "https://localhost:8080/"
        }
      },
      "source": [
        "from google.colab import drive\n",
        "drive.mount('/content/gdrive')"
      ],
      "execution_count": 8,
      "outputs": [
        {
          "output_type": "stream",
          "name": "stdout",
          "text": [
            "Mounted at /content/gdrive\n"
          ]
        }
      ]
    },
    {
      "cell_type": "markdown",
      "metadata": {
        "id": "RX5280gwikJN"
      },
      "source": [
        "####[MDF-08]\n",
        "Export the trained model as a file `MNIST_single.hd5` on your Google Drive."
      ]
    },
    {
      "cell_type": "code",
      "metadata": {
        "id": "jY2TeEWCwxix",
        "outputId": "696beba8-cc0b-4a34-c2cc-a7c947d85b9f",
        "colab": {
          "base_uri": "https://localhost:8080/"
        }
      },
      "source": [
        "model.save('/content/gdrive/My Drive/MNIST_single.hd5', save_format='h5')\n",
        "!ls -lh '/content/gdrive/My Drive/MNIST_single.hd5'"
      ],
      "execution_count": 9,
      "outputs": [
        {
          "output_type": "stream",
          "name": "stdout",
          "text": [
            "-rw------- 1 root root 37M May 15 02:28 '/content/gdrive/My Drive/MNIST_single.hd5'\n"
          ]
        }
      ]
    }
  ]
}