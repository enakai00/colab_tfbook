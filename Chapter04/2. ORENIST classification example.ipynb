{
  "nbformat": 4,
  "nbformat_minor": 0,
  "metadata": {
    "colab": {
      "provenance": []
    },
    "kernelspec": {
      "name": "python3",
      "display_name": "Python 3"
    }
  },
  "cells": [
    {
      "cell_type": "markdown",
      "metadata": {
        "id": "lgnUDSqATi8P"
      },
      "source": [
        "# ORENIST Classification Example"
      ]
    },
    {
      "cell_type": "markdown",
      "metadata": {
        "id": "BZiZZeljTnvv"
      },
      "source": [
        "Note: This notebook is desinged to run with Python3 and CPU (no GPU) runtime.\n",
        "\n",
        "![Python 3 and CPU runtime](https://raw.githubusercontent.com/enakai00/colab_tfbook/master/docs/imgs/runtime_cpu.png)"
      ]
    },
    {
      "cell_type": "markdown",
      "metadata": {
        "id": "-xkr13nCB0Il"
      },
      "source": [
        "This notebook uses TensorFlow2.x."
      ]
    },
    {
      "cell_type": "code",
      "metadata": {
        "id": "kop8_9RihcJX",
        "outputId": "e96635e2-fbfe-4ec6-db65-a8b7efae6e3d",
        "colab": {
          "base_uri": "https://localhost:8080/"
        }
      },
      "source": [
        "%tensorflow_version 2.x"
      ],
      "execution_count": 1,
      "outputs": [
        {
          "output_type": "stream",
          "name": "stdout",
          "text": [
            "Colab only includes TensorFlow 2.x; %tensorflow_version has no effect.\n"
          ]
        }
      ]
    },
    {
      "cell_type": "markdown",
      "metadata": {
        "id": "VJO3PPzqsq8d"
      },
      "source": [
        "####[OCE-01]\n",
        "Import modules and set random seeds."
      ]
    },
    {
      "cell_type": "code",
      "metadata": {
        "id": "gB5UUoAXIVmC"
      },
      "source": [
        "import os, random\n",
        "os.environ['PYTHONHASHSEED']=str(20230512)\n",
        "random.seed(20230512)\n",
        "\n",
        "import numpy as np\n",
        "import matplotlib.pyplot as plt\n",
        "from pandas import DataFrame\n",
        "import pickle\n",
        "\n",
        "import tensorflow as tf\n",
        "from tensorflow.keras import layers, models\n",
        "\n",
        "np.random.seed(20190823)\n",
        "tf.random.set_seed(20190823)"
      ],
      "execution_count": 2,
      "outputs": []
    },
    {
      "cell_type": "markdown",
      "metadata": {
        "id": "yz2h7_8St1wi"
      },
      "source": [
        "####[OCE-02]\n",
        "Download the ORENIST dataset and store into NumPy arrays."
      ]
    },
    {
      "cell_type": "code",
      "metadata": {
        "id": "ASgzWK5AjWvn",
        "outputId": "8a562eca-1f0e-4564-d348-b298c5a2832e",
        "colab": {
          "base_uri": "https://localhost:8080/"
        }
      },
      "source": [
        "!curl -LO https://github.com/enakai00/colab_tfbook/raw/master/Chapter04/ORENIST.data\n",
        "with open('ORENIST.data', 'rb') as file:\n",
        "    images, labels = pickle.load(file)"
      ],
      "execution_count": 3,
      "outputs": [
        {
          "output_type": "stream",
          "name": "stdout",
          "text": [
            "  % Total    % Received % Xferd  Average Speed   Time    Time     Time  Current\n",
            "                                 Dload  Upload   Total   Spent    Left  Speed\n",
            "  0     0    0     0    0     0      0      0 --:--:-- --:--:-- --:--:--     0\n",
            "100  553k  100  553k    0     0  1623k      0 --:--:-- --:--:-- --:--:-- 1623k\n"
          ]
        }
      ]
    },
    {
      "cell_type": "markdown",
      "metadata": {
        "id": "fBltXsSRvZn0"
      },
      "source": [
        "####[OCE-03]\n",
        "Define fixed convolutional filters to extract vertical and horizontal edges."
      ]
    },
    {
      "cell_type": "code",
      "metadata": {
        "id": "BakcuKxdQoSL"
      },
      "source": [
        "def edge_filter(shape=None, dtype=None):\n",
        "    filter0 = np.array(\n",
        "            [[ 2, 1, 0,-1,-2],\n",
        "             [ 3, 2, 0,-2,-3],\n",
        "             [ 4, 3, 0,-3,-4],\n",
        "             [ 3, 2, 0,-2,-3],\n",
        "             [ 2, 1, 0,-1,-2]]) / 23.0\n",
        "    filter1 = np.array(\n",
        "            [[ 2, 3, 4, 3, 2],\n",
        "             [ 1, 2, 3, 2, 1],\n",
        "             [ 0, 0, 0, 0, 0],\n",
        "             [-1,-2,-3,-2,-1],\n",
        "             [-2,-3,-4,-3,-2]]) / 23.0\n",
        "    \n",
        "    filter_array = np.zeros([5, 5, 1, 2])\n",
        "    filter_array[:, :, 0, 0] = filter0\n",
        "    filter_array[:, :, 0, 1] = filter1\n",
        "\n",
        "    return filter_array"
      ],
      "execution_count": 4,
      "outputs": []
    },
    {
      "cell_type": "markdown",
      "metadata": {
        "id": "gBrSbqujUAyW"
      },
      "source": [
        "####[OCE-04]\n",
        "Define a model to classify the ORENIST dataset with the fixed filters."
      ]
    },
    {
      "cell_type": "code",
      "metadata": {
        "id": "TZw9C2dLkSvG",
        "outputId": "287dd167-9afb-4bc0-c693-552a3cf41ab7",
        "colab": {
          "base_uri": "https://localhost:8080/"
        }
      },
      "source": [
        "model = models.Sequential()\n",
        "model.add(layers.Reshape((28, 28, 1), input_shape=(28*28,), name='reshape'))\n",
        "model.add(layers.Conv2D(2, (5, 5), padding='same',\n",
        "                        kernel_initializer=edge_filter,\n",
        "                        use_bias=False, trainable=False,\n",
        "                        name='conv_filter'))\n",
        "model.add(layers.Lambda(lambda x: abs(x), name='abs'))\n",
        "model.add(layers.Lambda(lambda x: tf.keras.backend.relu(x-0.2), name='cut_off'))\n",
        "model.add(layers.MaxPooling2D((2, 2), name='max_pooling'))\n",
        "\n",
        "model.add(layers.Flatten(name='flatten'))\n",
        "model.add(layers.Dense(2, activation='tanh', name='hidden'))\n",
        "model.add(layers.Dense(3, activation='softmax', name='softmax'))\n",
        "                       \n",
        "model.summary()"
      ],
      "execution_count": 5,
      "outputs": [
        {
          "output_type": "stream",
          "name": "stdout",
          "text": [
            "Model: \"sequential\"\n",
            "_________________________________________________________________\n",
            " Layer (type)                Output Shape              Param #   \n",
            "=================================================================\n",
            " reshape (Reshape)           (None, 28, 28, 1)         0         \n",
            "                                                                 \n",
            " conv_filter (Conv2D)        (None, 28, 28, 2)         50        \n",
            "                                                                 \n",
            " abs (Lambda)                (None, 28, 28, 2)         0         \n",
            "                                                                 \n",
            " cut_off (Lambda)            (None, 28, 28, 2)         0         \n",
            "                                                                 \n",
            " max_pooling (MaxPooling2D)  (None, 14, 14, 2)         0         \n",
            "                                                                 \n",
            " flatten (Flatten)           (None, 392)               0         \n",
            "                                                                 \n",
            " hidden (Dense)              (None, 2)                 786       \n",
            "                                                                 \n",
            " softmax (Dense)             (None, 3)                 9         \n",
            "                                                                 \n",
            "=================================================================\n",
            "Total params: 845\n",
            "Trainable params: 795\n",
            "Non-trainable params: 50\n",
            "_________________________________________________________________\n"
          ]
        }
      ]
    },
    {
      "cell_type": "markdown",
      "metadata": {
        "id": "igebfyeyUwak"
      },
      "source": [
        "####[OCE-05]\n",
        "Compile the model using the Adam optimizer, and Cross entroy as a loss function."
      ]
    },
    {
      "cell_type": "code",
      "metadata": {
        "id": "YodHmwNEnWjz"
      },
      "source": [
        "model.compile(optimizer='adam', \n",
        "              loss='categorical_crossentropy',\n",
        "              metrics=['acc'])"
      ],
      "execution_count": 6,
      "outputs": []
    },
    {
      "cell_type": "markdown",
      "metadata": {
        "id": "J4iR0mUUU2-u"
      },
      "source": [
        "####[OCE-06]\n",
        "Train the model."
      ]
    },
    {
      "cell_type": "code",
      "metadata": {
        "id": "Bp6hT6n4nobF"
      },
      "source": [
        "history = model.fit(images, labels,\n",
        "                    batch_size=len(images), epochs=200, verbose=0)"
      ],
      "execution_count": 7,
      "outputs": []
    },
    {
      "cell_type": "markdown",
      "metadata": {
        "id": "TyXnWVUWVA98"
      },
      "source": [
        "####[OCE-07]\n",
        "Plot a chart to see the accuracy of the model. It achieves the 100% accuracy."
      ]
    },
    {
      "cell_type": "code",
      "metadata": {
        "id": "WVIdMBfb16-e",
        "outputId": "e665ed82-9181-4b3e-c294-d0a60f966602",
        "colab": {
          "base_uri": "https://localhost:8080/",
          "height": 448
        }
      },
      "source": [
        "DataFrame({'acc': history.history['acc']}).plot()"
      ],
      "execution_count": 8,
      "outputs": [
        {
          "output_type": "execute_result",
          "data": {
            "text/plain": [
              "<Axes: >"
            ]
          },
          "metadata": {},
          "execution_count": 8
        },
        {
          "output_type": "display_data",
          "data": {
            "text/plain": [
              "<Figure size 640x480 with 1 Axes>"
            ],
            "image/png": "[encoded data removed]"
          },
          "metadata": {}
        }
      ]
    },
    {
      "cell_type": "markdown",
      "metadata": {
        "id": "IkLexxa0VL-O"
      },
      "source": [
        "####[OCE-08]\n",
        "Define a model to extract outputs from the hidden layer."
      ]
    },
    {
      "cell_type": "code",
      "metadata": {
        "id": "Wrq-1Qk4_cj9"
      },
      "source": [
        "layer_outputs = [model.get_layer('hidden').output]\n",
        "model2 = models.Model(inputs=model.input, outputs=layer_outputs)"
      ],
      "execution_count": 9,
      "outputs": []
    },
    {
      "cell_type": "markdown",
      "metadata": {
        "id": "YWa1XV84Von9"
      },
      "source": [
        "####[OCE-09]\n",
        "Plot a chart to show the values of $(z_1, z_2)$ for each image."
      ]
    },
    {
      "cell_type": "code",
      "metadata": {
        "id": "kneFxMS1_Qxd",
        "outputId": "ebaa58df-7653-446a-d55a-cc6661d11d92",
        "colab": {
          "base_uri": "https://localhost:8080/",
          "height": 617
        }
      },
      "source": [
        "hidden_vals = model2.predict(images, verbose=0)\n",
        "\n",
        "z1_vals = [[],[],[]]\n",
        "z2_vals = [[],[],[]]\n",
        "\n",
        "for hidden_val, label in zip(hidden_vals, labels):\n",
        "    label_num = np.argmax(label)\n",
        "    z1_vals[label_num].append(hidden_val[0])\n",
        "    z2_vals[label_num].append(hidden_val[1])\n",
        "    \n",
        "fig = plt.figure(figsize=(7, 7))\n",
        "subplot = fig.add_subplot(1, 1, 1)\n",
        "subplot.scatter(z1_vals[0], z2_vals[0], s=100, marker='|')\n",
        "subplot.scatter(z1_vals[1], z2_vals[1], s=100, marker='_')\n",
        "subplot.scatter(z1_vals[2], z2_vals[2], s=100, marker='+')"
      ],
      "execution_count": 10,
      "outputs": [
        {
          "output_type": "execute_result",
          "data": {
            "text/plain": [
              "<matplotlib.collections.PathCollection at 0x7fd8e1852440>"
            ]
          },
          "metadata": {},
          "execution_count": 10
        },
        {
          "output_type": "display_data",
          "data": {
            "text/plain": [
              "<Figure size 700x700 with 1 Axes>"
            ],
            "image/png": "[encoded data removed]"
          },
          "metadata": {}
        }
      ]
    }
  ]
}