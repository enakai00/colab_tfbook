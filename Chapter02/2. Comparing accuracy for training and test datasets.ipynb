{
  "nbformat": 4,
  "nbformat_minor": 0,
  "metadata": {
    "colab": {
      "provenance": []
    },
    "kernelspec": {
      "name": "python3",
      "display_name": "Python 3"
    }
  },
  "cells": [
    {
      "cell_type": "markdown",
      "metadata": {
        "id": "EWD-Wv2WlVFr"
      },
      "source": [
        "# Comparing Accuracy for Training and Test Datasets"
      ]
    },
    {
      "cell_type": "markdown",
      "metadata": {
        "id": "AsQrtU2qlS7P"
      },
      "source": [
        "Note: This notebook is desinged to run with Python3 and CPU (no GPU) runtime.\n",
        "\n",
        "![Python 3 and CPU runtime](https://raw.githubusercontent.com/enakai00/colab_tfbook/master/docs/imgs/runtime_cpu.png)"
      ]
    },
    {
      "cell_type": "markdown",
      "metadata": {
        "id": "YEsQkHxvuJOI"
      },
      "source": [
        "This notebook uses TensorFlow2.x."
      ]
    },
    {
      "cell_type": "code",
      "metadata": {
        "id": "mkkHIutQI-jD",
        "outputId": "0413a042-d5c1-4300-c029-1d2c7d52e8ae",
        "colab": {
          "base_uri": "https://localhost:8080/"
        }
      },
      "source": [
        "%tensorflow_version 2.x"
      ],
      "execution_count": 1,
      "outputs": [
        {
          "output_type": "stream",
          "name": "stdout",
          "text": [
            "Colab only includes TensorFlow 2.x; %tensorflow_version has no effect.\n"
          ]
        }
      ]
    },
    {
      "cell_type": "markdown",
      "metadata": {
        "id": "VJO3PPzqsq8d"
      },
      "source": [
        "####[CAT-01]\n",
        "Import modules and set a random seed."
      ]
    },
    {
      "cell_type": "code",
      "metadata": {
        "id": "gB5UUoAXIVmC"
      },
      "source": [
        "import os, random\n",
        "os.environ['PYTHONHASHSEED']=str(20230515)\n",
        "random.seed(20230515)\n",
        "\n",
        "import numpy as np\n",
        "from numpy.random import multivariate_normal, permutation\n",
        "import pandas as pd\n",
        "from pandas import DataFrame\n",
        "import matplotlib.pyplot as plt\n",
        "\n",
        "import tensorflow as tf\n",
        "from tensorflow.keras import layers, models\n",
        "\n",
        "np.random.seed(20190825)\n",
        "tf.random.set_seed(20190825)"
      ],
      "execution_count": 2,
      "outputs": []
    },
    {
      "cell_type": "markdown",
      "metadata": {
        "id": "yz2h7_8St1wi"
      },
      "source": [
        "####[CAT-02]\n",
        "Generate a dateset and split them into training(80%) and test datasets(20%)."
      ]
    },
    {
      "cell_type": "code",
      "metadata": {
        "id": "ASgzWK5AjWvn"
      },
      "source": [
        "n0, mu0, variance0 = 800, [10, 11], 20\n",
        "data0 = multivariate_normal(mu0, np.eye(2)*variance0 ,n0)\n",
        "df0 = DataFrame(data0, columns=['x1', 'x2'])\n",
        "df0['t'] = 0\n",
        "\n",
        "n1, mu1, variance1 = 600, [18, 20], 22\n",
        "data1 = multivariate_normal(mu1, np.eye(2)*variance1 ,n1)\n",
        "df1 = DataFrame(data1, columns=['x1', 'x2'])\n",
        "df1['t'] = 1\n",
        "\n",
        "df = pd.concat([df0, df1], ignore_index=True)\n",
        "df = df.reindex(permutation(df.index)).reset_index(drop=True)\n",
        "\n",
        "num_data = int(len(df)*0.8)\n",
        "train_set = df[:num_data]\n",
        "test_set = df[num_data:]"
      ],
      "execution_count": 3,
      "outputs": []
    },
    {
      "cell_type": "markdown",
      "metadata": {
        "id": "qdQ0Tp2IvFy8"
      },
      "source": [
        "####[CAT-04]\n",
        "Store the coordinates $(x_1,x_2)$ and label values $t$ into NumPy arrays."
      ]
    },
    {
      "cell_type": "code",
      "metadata": {
        "id": "tpL_niBTXggS"
      },
      "source": [
        "train_x = train_set[['x1', 'x2']].values\n",
        "train_t = train_set['t'].values\n",
        "test_x = test_set[['x1', 'x2']].values\n",
        "test_t = test_set['t'].values"
      ],
      "execution_count": 4,
      "outputs": []
    },
    {
      "cell_type": "markdown",
      "metadata": {
        "id": "fmnjQdqAvQRw"
      },
      "source": [
        "####[CAT-05]\n",
        "Define a model to predict the probability of `t=1`."
      ]
    },
    {
      "cell_type": "code",
      "metadata": {
        "id": "BakcuKxdQoSL",
        "outputId": "680fabc8-fd19-418f-cb2e-967157704453",
        "colab": {
          "base_uri": "https://localhost:8080/"
        }
      },
      "source": [
        "model = models.Sequential()\n",
        "model.add(layers.Dense(1, activation='sigmoid', input_shape=(2,),\n",
        "                       name='logistic_regression'))\n",
        "\n",
        "model.summary()"
      ],
      "execution_count": 5,
      "outputs": [
        {
          "output_type": "stream",
          "name": "stdout",
          "text": [
            "Model: \"sequential\"\n",
            "_________________________________________________________________\n",
            " Layer (type)                Output Shape              Param #   \n",
            "=================================================================\n",
            " logistic_regression (Dense)  (None, 1)                3         \n",
            "                                                                 \n",
            "=================================================================\n",
            "Total params: 3\n",
            "Trainable params: 3\n",
            "Non-trainable params: 0\n",
            "_________________________________________________________________\n"
          ]
        }
      ]
    },
    {
      "cell_type": "markdown",
      "metadata": {
        "id": "fBltXsSRvZn0"
      },
      "source": [
        "####[CAT-06]\n",
        "Compile the model using the Adam optimizer, and Cross entroy as a loss function."
      ]
    },
    {
      "cell_type": "code",
      "metadata": {
        "id": "LlQCTsKKXkr5"
      },
      "source": [
        "model.compile(optimizer='adam', \n",
        "              loss='binary_crossentropy',\n",
        "              metrics=['acc'])"
      ],
      "execution_count": 6,
      "outputs": []
    },
    {
      "cell_type": "markdown",
      "metadata": {
        "id": "PjbE4TVBvqCh"
      },
      "source": [
        "####[CAT-07]\n",
        "Apply the optimization for 10 epochs."
      ]
    },
    {
      "cell_type": "code",
      "metadata": {
        "id": "qpARZzJsAnNA",
        "outputId": "a807d85f-42e0-4300-f98f-2626b7769908",
        "colab": {
          "base_uri": "https://localhost:8080/"
        }
      },
      "source": [
        "history = model.fit(train_x, train_t,\n",
        "                    validation_data=(test_x, test_t),\n",
        "                    batch_size=len(train_x), epochs=10)"
      ],
      "execution_count": 7,
      "outputs": [
        {
          "output_type": "stream",
          "name": "stdout",
          "text": [
            "Epoch 1/10\n",
            "1/1 [==============================] - 2s 2s/step - loss: 3.6296 - acc: 0.5527 - val_loss: 2.9728 - val_acc: 0.6107\n",
            "Epoch 2/10\n",
            "1/1 [==============================] - 0s 59ms/step - loss: 3.6127 - acc: 0.5527 - val_loss: 2.9587 - val_acc: 0.6107\n",
            "Epoch 3/10\n",
            "1/1 [==============================] - 0s 69ms/step - loss: 3.5959 - acc: 0.5527 - val_loss: 2.9447 - val_acc: 0.6107\n",
            "Epoch 4/10\n",
            "1/1 [==============================] - 0s 87ms/step - loss: 3.5791 - acc: 0.5527 - val_loss: 2.9306 - val_acc: 0.6107\n",
            "Epoch 5/10\n",
            "1/1 [==============================] - 0s 77ms/step - loss: 3.5623 - acc: 0.5527 - val_loss: 2.9166 - val_acc: 0.6107\n",
            "Epoch 6/10\n",
            "1/1 [==============================] - 0s 67ms/step - loss: 3.5454 - acc: 0.5527 - val_loss: 2.9025 - val_acc: 0.6071\n",
            "Epoch 7/10\n",
            "1/1 [==============================] - 0s 85ms/step - loss: 3.5286 - acc: 0.5527 - val_loss: 2.8885 - val_acc: 0.6071\n",
            "Epoch 8/10\n",
            "1/1 [==============================] - 0s 107ms/step - loss: 3.5119 - acc: 0.5527 - val_loss: 2.8745 - val_acc: 0.6071\n",
            "Epoch 9/10\n",
            "1/1 [==============================] - 0s 91ms/step - loss: 3.4951 - acc: 0.5527 - val_loss: 2.8605 - val_acc: 0.6071\n",
            "Epoch 10/10\n",
            "1/1 [==============================] - 0s 64ms/step - loss: 3.4783 - acc: 0.5518 - val_loss: 2.8465 - val_acc: 0.6071\n"
          ]
        }
      ]
    },
    {
      "cell_type": "markdown",
      "metadata": {
        "id": "6ZJDVflWv6bm"
      },
      "source": [
        "####[CAT-08]\n",
        "Apply the optimization for additional 5,000 epochs."
      ]
    },
    {
      "cell_type": "code",
      "metadata": {
        "id": "R6aG8FEZSLdr"
      },
      "source": [
        "history = model.fit(train_x, train_t,\n",
        "                    validation_data=(test_x, test_t),\n",
        "                    batch_size=len(train_x), epochs=5000, verbose=0)"
      ],
      "execution_count": 8,
      "outputs": []
    },
    {
      "cell_type": "markdown",
      "metadata": {
        "id": "BFIxYITmwBXA"
      },
      "source": [
        "####[CAT-09]\n",
        "Plot a chart to compare the accuracy for training and test datasets."
      ]
    },
    {
      "cell_type": "code",
      "metadata": {
        "id": "lHFnv_-Z9KjC",
        "outputId": "e4ee9a7d-47b2-4c72-db73-e9e6e85ab6d3",
        "colab": {
          "base_uri": "https://localhost:8080/",
          "height": 448
        }
      },
      "source": [
        "DataFrame({'acc': history.history['acc'], \n",
        "           'val_acc': history.history['val_acc']}).plot()"
      ],
      "execution_count": 9,
      "outputs": [
        {
          "output_type": "execute_result",
          "data": {
            "text/plain": [
              "<Axes: >"
            ]
          },
          "metadata": {},
          "execution_count": 9
        },
        {
          "output_type": "display_data",
          "data": {
            "text/plain": [
              "<Figure size 640x480 with 1 Axes>"
            ],
            "image/png": "[encoded data removed]"
          },
          "metadata": {}
        }
      ]
    }
  ]
}